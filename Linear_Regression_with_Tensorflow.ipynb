{
 "cells": [
  {
   "cell_type": "code",
   "execution_count": 1,
   "id": "29b805d4",
   "metadata": {},
   "outputs": [
    {
     "name": "stdout",
     "output_type": "stream",
     "text": [
      "WARNING:tensorflow:From D:\\Apps\\Anaconda\\Lib\\site-packages\\keras\\src\\losses.py:2976: The name tf.losses.sparse_softmax_cross_entropy is deprecated. Please use tf.compat.v1.losses.sparse_softmax_cross_entropy instead.\n",
      "\n"
     ]
    }
   ],
   "source": [
    "import numpy as np\n",
    "import tensorflow as tf\n",
    "import matplotlib.pyplot as plt"
   ]
  },
  {
   "cell_type": "code",
   "execution_count": 2,
   "id": "fd61c3cb",
   "metadata": {},
   "outputs": [],
   "source": [
    "# Steps in modelling a model in tensorflow\n",
    "\n",
    "# 1. Creating a model - define the input , output and hidden layers of the model \n",
    "# 2. Compile the model - define the loss function(tell model how wrong the model is), optimizer(tells how to imporve its learning)\n",
    "#    and the evaluation metric(how to interpret the model performance)\n",
    "# 3. Fitting the model"
   ]
  },
  {
   "cell_type": "code",
   "execution_count": 3,
   "id": "2a12ceac",
   "metadata": {},
   "outputs": [
    {
     "data": {
      "text/plain": [
       "([-7.0, -4.0, -1.0, 2.0, 5.0, 8.0, 11.0, 14.0],\n",
       " [3.0, 6.0, 9.0, 12.0, 15.0, 18.0, 21.0, 24.0])"
      ]
     },
     "execution_count": 3,
     "metadata": {},
     "output_type": "execute_result"
    }
   ],
   "source": [
    "X = [-7. , -4. , -1. , 2., 5. , 8. , 11. , 14. ]\n",
    "Y = [3. , 6. , 9., 12., 15., 18., 21., 24.]\n",
    "\n",
    "X, Y"
   ]
  },
  {
   "cell_type": "code",
   "execution_count": 4,
   "id": "6f72e137",
   "metadata": {},
   "outputs": [
    {
     "data": {
      "text/plain": [
       "(<tf.Tensor: shape=(8, 1), dtype=float32, numpy=\n",
       " array([[-7.],\n",
       "        [-4.],\n",
       "        [-1.],\n",
       "        [ 2.],\n",
       "        [ 5.],\n",
       "        [ 8.],\n",
       "        [11.],\n",
       "        [14.]], dtype=float32)>,\n",
       " <tf.Tensor: shape=(8, 1), dtype=float32, numpy=\n",
       " array([[ 3.],\n",
       "        [ 6.],\n",
       "        [ 9.],\n",
       "        [12.],\n",
       "        [15.],\n",
       "        [18.],\n",
       "        [21.],\n",
       "        [24.]], dtype=float32)>)"
      ]
     },
     "execution_count": 4,
     "metadata": {},
     "output_type": "execute_result"
    }
   ],
   "source": [
    "X = tf.constant(X , shape=(8 , 1))\n",
    "Y = tf.constant(Y , shape=(8 , 1))\n",
    "\n",
    "X, Y"
   ]
  },
  {
   "cell_type": "code",
   "execution_count": 5,
   "id": "a268c479",
   "metadata": {},
   "outputs": [
    {
     "data": {
      "text/plain": [
       "(TensorShape([1]), TensorShape([1]))"
      ]
     },
     "execution_count": 5,
     "metadata": {},
     "output_type": "execute_result"
    }
   ],
   "source": [
    "inputShape = X[0].shape\n",
    "outputShape = Y[0].shape\n",
    "inputShape , outputShape"
   ]
  },
  {
   "cell_type": "code",
   "execution_count": 6,
   "id": "8bc1cb68",
   "metadata": {},
   "outputs": [
    {
     "data": {
      "text/plain": [
       "<matplotlib.collections.PathCollection at 0x144a1b89950>"
      ]
     },
     "execution_count": 6,
     "metadata": {},
     "output_type": "execute_result"
    },
    {
     "data": {
      "image/png": "[encoded data removed]",
      "text/plain": [
       "<Figure size 640x480 with 1 Axes>"
      ]
     },
     "metadata": {},
     "output_type": "display_data"
    }
   ],
   "source": [
    "plt.scatter(X , Y)"
   ]
  },
  {
   "cell_type": "code",
   "execution_count": 7,
   "id": "31aa826a",
   "metadata": {},
   "outputs": [
    {
     "name": "stdout",
     "output_type": "stream",
     "text": [
      "WARNING:tensorflow:From D:\\Apps\\Anaconda\\Lib\\site-packages\\keras\\src\\backend.py:873: The name tf.get_default_graph is deprecated. Please use tf.compat.v1.get_default_graph instead.\n",
      "\n",
      "Epoch 1/5\n",
      "WARNING:tensorflow:From D:\\Apps\\Anaconda\\Lib\\site-packages\\keras\\src\\utils\\tf_utils.py:492: The name tf.ragged.RaggedTensorValue is deprecated. Please use tf.compat.v1.ragged.RaggedTensorValue instead.\n",
      "\n",
      "WARNING:tensorflow:From D:\\Apps\\Anaconda\\Lib\\site-packages\\keras\\src\\engine\\base_layer_utils.py:384: The name tf.executing_eagerly_outside_functions is deprecated. Please use tf.compat.v1.executing_eagerly_outside_functions instead.\n",
      "\n",
      "1/1 [==============================] - 2s 2s/step - loss: 20.8847 - mae: 20.8847\n",
      "Epoch 2/5\n",
      "1/1 [==============================] - 0s 18ms/step - loss: 20.5113 - mae: 20.5113\n",
      "Epoch 3/5\n",
      "1/1 [==============================] - 0s 19ms/step - loss: 20.2300 - mae: 20.2300\n",
      "Epoch 4/5\n",
      "1/1 [==============================] - 0s 15ms/step - loss: 19.9488 - mae: 19.9488\n",
      "Epoch 5/5\n",
      "1/1 [==============================] - 0s 13ms/step - loss: 19.6675 - mae: 19.6675\n"
     ]
    },
    {
     "data": {
      "text/plain": [
       "<keras.src.callbacks.History at 0x144a0770150>"
      ]
     },
     "execution_count": 7,
     "metadata": {},
     "output_type": "execute_result"
    }
   ],
   "source": [
    "tf.random.set_seed(42)\n",
    "\n",
    "# Creating a Linear Model using Sequential API\n",
    "\n",
    "model = tf.keras.Sequential([\n",
    "    tf.keras.layers.Dense(1)\n",
    "])\n",
    "\n",
    "\n",
    "# Compile Model\n",
    "\n",
    "# mae = Mean absolute error\n",
    "# SGD = Stochastic Gradient Decent\n",
    "model.compile(loss=tf.keras.losses.mae ,\n",
    "             optimizer=tf.keras.optimizers.SGD(),\n",
    "              metrics=[\"mae\"]\n",
    "             ) \n",
    "\n",
    "# Fit the model\n",
    "\n",
    "model.fit(X, Y , epochs=5)"
   ]
  },
  {
   "cell_type": "code",
   "execution_count": 8,
   "id": "e3c5fecd",
   "metadata": {},
   "outputs": [
    {
     "name": "stdout",
     "output_type": "stream",
     "text": [
      "1/1 [==============================] - 0s 316ms/step\n"
     ]
    },
    {
     "data": {
      "text/plain": [
       "array([[-21.538818]], dtype=float32)"
      ]
     },
     "execution_count": 8,
     "metadata": {},
     "output_type": "execute_result"
    }
   ],
   "source": [
    "model.predict([17.0])"
   ]
  },
  {
   "cell_type": "markdown",
   "id": "2da771fc",
   "metadata": {},
   "source": [
    "### Improving the Model"
   ]
  },
  {
   "cell_type": "code",
   "execution_count": 9,
   "id": "7abb815b",
   "metadata": {},
   "outputs": [],
   "source": [
    "# 1. Increase the no. of layers, hidden units, change activation function of each layer\n",
    "# 2. Change optimizer function or learning rates of optimizer function,\n",
    "# 3. Increase the number of epochs or increase the amount of data"
   ]
  },
  {
   "cell_type": "code",
   "execution_count": 10,
   "id": "58f9d2f0",
   "metadata": {},
   "outputs": [
    {
     "name": "stdout",
     "output_type": "stream",
     "text": [
      "Epoch 1/100\n",
      "1/1 [==============================] - 2s 2s/step - loss: 15.8355 - mae: 15.8355\n",
      "Epoch 2/100\n",
      "1/1 [==============================] - 0s 21ms/step - loss: 14.8272 - mae: 14.8272\n",
      "Epoch 3/100\n",
      "1/1 [==============================] - 0s 19ms/step - loss: 14.1262 - mae: 14.1262\n",
      "Epoch 4/100\n",
      "1/1 [==============================] - 0s 20ms/step - loss: 13.4346 - mae: 13.4346\n",
      "Epoch 5/100\n",
      "1/1 [==============================] - 0s 16ms/step - loss: 12.7476 - mae: 12.7476\n",
      "Epoch 6/100\n",
      "1/1 [==============================] - 0s 18ms/step - loss: 12.0625 - mae: 12.0625\n",
      "Epoch 7/100\n",
      "1/1 [==============================] - 0s 19ms/step - loss: 11.3763 - mae: 11.3763\n",
      "Epoch 8/100\n",
      "1/1 [==============================] - 0s 18ms/step - loss: 10.6860 - mae: 10.6860\n",
      "Epoch 9/100\n",
      "1/1 [==============================] - 0s 17ms/step - loss: 9.9883 - mae: 9.9883\n",
      "Epoch 10/100\n",
      "1/1 [==============================] - 0s 18ms/step - loss: 9.2802 - mae: 9.2802\n",
      "Epoch 11/100\n",
      "1/1 [==============================] - 0s 12ms/step - loss: 8.5591 - mae: 8.5591\n",
      "Epoch 12/100\n",
      "1/1 [==============================] - 0s 16ms/step - loss: 7.8223 - mae: 7.8223\n",
      "Epoch 13/100\n",
      "1/1 [==============================] - 0s 21ms/step - loss: 7.0676 - mae: 7.0676\n",
      "Epoch 14/100\n",
      "1/1 [==============================] - 0s 19ms/step - loss: 6.5520 - mae: 6.5520\n",
      "Epoch 15/100\n",
      "1/1 [==============================] - 0s 16ms/step - loss: 6.7081 - mae: 6.7081\n",
      "Epoch 16/100\n",
      "1/1 [==============================] - 0s 19ms/step - loss: 7.0139 - mae: 7.0139\n",
      "Epoch 17/100\n",
      "1/1 [==============================] - 0s 16ms/step - loss: 7.3131 - mae: 7.3131\n",
      "Epoch 18/100\n",
      "1/1 [==============================] - 0s 16ms/step - loss: 7.4800 - mae: 7.4800\n",
      "Epoch 19/100\n",
      "1/1 [==============================] - 0s 15ms/step - loss: 7.4524 - mae: 7.4524\n",
      "Epoch 20/100\n",
      "1/1 [==============================] - 0s 19ms/step - loss: 7.2727 - mae: 7.2727\n",
      "Epoch 21/100\n",
      "1/1 [==============================] - 0s 19ms/step - loss: 6.9745 - mae: 6.9745\n",
      "Epoch 22/100\n",
      "1/1 [==============================] - 0s 16ms/step - loss: 6.6560 - mae: 6.6560\n",
      "Epoch 23/100\n",
      "1/1 [==============================] - 0s 18ms/step - loss: 6.3926 - mae: 6.3926\n",
      "Epoch 24/100\n",
      "1/1 [==============================] - 0s 18ms/step - loss: 6.1169 - mae: 6.1169\n",
      "Epoch 25/100\n",
      "1/1 [==============================] - 0s 18ms/step - loss: 5.8761 - mae: 5.8761\n",
      "Epoch 26/100\n",
      "1/1 [==============================] - 0s 18ms/step - loss: 5.8303 - mae: 5.8303\n",
      "Epoch 27/100\n",
      "1/1 [==============================] - 0s 18ms/step - loss: 5.8145 - mae: 5.8145\n",
      "Epoch 28/100\n",
      "1/1 [==============================] - 0s 16ms/step - loss: 5.8917 - mae: 5.8917\n",
      "Epoch 29/100\n",
      "1/1 [==============================] - 0s 15ms/step - loss: 5.8731 - mae: 5.8731\n",
      "Epoch 30/100\n",
      "1/1 [==============================] - 0s 15ms/step - loss: 5.7699 - mae: 5.7699\n",
      "Epoch 31/100\n",
      "1/1 [==============================] - 0s 18ms/step - loss: 5.5909 - mae: 5.5909\n",
      "Epoch 32/100\n",
      "1/1 [==============================] - 0s 17ms/step - loss: 5.3878 - mae: 5.3878\n",
      "Epoch 33/100\n",
      "1/1 [==============================] - 0s 17ms/step - loss: 5.2888 - mae: 5.2888\n",
      "Epoch 34/100\n",
      "1/1 [==============================] - 0s 17ms/step - loss: 5.1869 - mae: 5.1869\n",
      "Epoch 35/100\n",
      "1/1 [==============================] - 0s 16ms/step - loss: 5.0918 - mae: 5.0918\n",
      "Epoch 36/100\n",
      "1/1 [==============================] - 0s 18ms/step - loss: 5.0604 - mae: 5.0604\n",
      "Epoch 37/100\n",
      "1/1 [==============================] - 0s 17ms/step - loss: 4.9890 - mae: 4.9890\n",
      "Epoch 38/100\n",
      "1/1 [==============================] - 0s 16ms/step - loss: 4.8808 - mae: 4.8808\n",
      "Epoch 39/100\n",
      "1/1 [==============================] - 0s 16ms/step - loss: 4.7388 - mae: 4.7388\n",
      "Epoch 40/100\n",
      "1/1 [==============================] - 0s 13ms/step - loss: 4.6075 - mae: 4.6075\n",
      "Epoch 41/100\n",
      "1/1 [==============================] - 0s 16ms/step - loss: 4.5122 - mae: 4.5122\n",
      "Epoch 42/100\n",
      "1/1 [==============================] - 0s 16ms/step - loss: 4.4107 - mae: 4.4107\n",
      "Epoch 43/100\n",
      "1/1 [==============================] - 0s 19ms/step - loss: 4.3028 - mae: 4.3028\n",
      "Epoch 44/100\n",
      "1/1 [==============================] - 0s 19ms/step - loss: 4.1884 - mae: 4.1884\n",
      "Epoch 45/100\n",
      "1/1 [==============================] - 0s 17ms/step - loss: 4.0675 - mae: 4.0675\n",
      "Epoch 46/100\n",
      "1/1 [==============================] - 0s 15ms/step - loss: 3.9398 - mae: 3.9398\n",
      "Epoch 47/100\n",
      "1/1 [==============================] - 0s 18ms/step - loss: 3.8051 - mae: 3.8051\n",
      "Epoch 48/100\n",
      "1/1 [==============================] - 0s 19ms/step - loss: 3.6633 - mae: 3.6633\n",
      "Epoch 49/100\n",
      "1/1 [==============================] - 0s 15ms/step - loss: 3.5141 - mae: 3.5141\n",
      "Epoch 50/100\n",
      "1/1 [==============================] - 0s 18ms/step - loss: 3.3574 - mae: 3.3574\n",
      "Epoch 51/100\n",
      "1/1 [==============================] - 0s 18ms/step - loss: 3.1928 - mae: 3.1928\n",
      "Epoch 52/100\n",
      "1/1 [==============================] - 0s 18ms/step - loss: 3.0202 - mae: 3.0202\n",
      "Epoch 53/100\n",
      "1/1 [==============================] - 0s 18ms/step - loss: 2.8393 - mae: 2.8393\n",
      "Epoch 54/100\n",
      "1/1 [==============================] - 0s 18ms/step - loss: 2.6498 - mae: 2.6498\n",
      "Epoch 55/100\n",
      "1/1 [==============================] - 0s 15ms/step - loss: 2.4807 - mae: 2.4807\n",
      "Epoch 56/100\n",
      "1/1 [==============================] - 0s 15ms/step - loss: 2.2815 - mae: 2.2815\n",
      "Epoch 57/100\n",
      "1/1 [==============================] - 0s 17ms/step - loss: 2.0620 - mae: 2.0620\n",
      "Epoch 58/100\n",
      "1/1 [==============================] - 0s 18ms/step - loss: 1.8570 - mae: 1.8570\n",
      "Epoch 59/100\n",
      "1/1 [==============================] - 0s 14ms/step - loss: 1.6487 - mae: 1.6487\n",
      "Epoch 60/100\n",
      "1/1 [==============================] - 0s 17ms/step - loss: 1.4010 - mae: 1.4010\n",
      "Epoch 61/100\n",
      "1/1 [==============================] - 0s 18ms/step - loss: 1.1962 - mae: 1.1962\n",
      "Epoch 62/100\n",
      "1/1 [==============================] - 0s 18ms/step - loss: 0.9568 - mae: 0.9568\n",
      "Epoch 63/100\n",
      "1/1 [==============================] - 0s 17ms/step - loss: 0.6548 - mae: 0.6548\n",
      "Epoch 64/100\n",
      "1/1 [==============================] - 0s 42ms/step - loss: 0.4329 - mae: 0.4329\n",
      "Epoch 65/100\n",
      "1/1 [==============================] - 0s 15ms/step - loss: 0.1410 - mae: 0.1410\n",
      "Epoch 66/100\n",
      "1/1 [==============================] - 0s 15ms/step - loss: 0.2162 - mae: 0.2162\n",
      "Epoch 67/100\n",
      "1/1 [==============================] - 0s 15ms/step - loss: 0.4277 - mae: 0.4277\n",
      "Epoch 68/100\n",
      "1/1 [==============================] - 0s 18ms/step - loss: 0.5648 - mae: 0.5648\n",
      "Epoch 69/100\n",
      "1/1 [==============================] - 0s 18ms/step - loss: 0.6811 - mae: 0.6811\n",
      "Epoch 70/100\n",
      "1/1 [==============================] - 0s 16ms/step - loss: 0.7473 - mae: 0.7473\n",
      "Epoch 71/100\n",
      "1/1 [==============================] - 0s 17ms/step - loss: 0.7661 - mae: 0.7661\n",
      "Epoch 72/100\n",
      "1/1 [==============================] - 0s 17ms/step - loss: 0.7427 - mae: 0.7427\n",
      "Epoch 73/100\n",
      "1/1 [==============================] - 0s 16ms/step - loss: 0.7041 - mae: 0.7041\n",
      "Epoch 74/100\n",
      "1/1 [==============================] - 0s 16ms/step - loss: 0.6039 - mae: 0.6039\n",
      "Epoch 75/100\n",
      "1/1 [==============================] - 0s 16ms/step - loss: 0.5135 - mae: 0.5135\n",
      "Epoch 76/100\n",
      "1/1 [==============================] - 0s 17ms/step - loss: 0.4080 - mae: 0.4080\n",
      "Epoch 77/100\n",
      "1/1 [==============================] - 0s 15ms/step - loss: 0.2207 - mae: 0.2207\n",
      "Epoch 78/100\n",
      "1/1 [==============================] - 0s 17ms/step - loss: 0.1962 - mae: 0.1962\n",
      "Epoch 79/100\n",
      "1/1 [==============================] - 0s 16ms/step - loss: 0.0962 - mae: 0.0962\n",
      "Epoch 80/100\n",
      "1/1 [==============================] - 0s 17ms/step - loss: 0.2695 - mae: 0.2695\n",
      "Epoch 81/100\n",
      "1/1 [==============================] - 0s 19ms/step - loss: 0.2504 - mae: 0.2504\n",
      "Epoch 82/100\n",
      "1/1 [==============================] - 0s 20ms/step - loss: 0.4631 - mae: 0.4631\n",
      "Epoch 83/100\n",
      "1/1 [==============================] - 0s 16ms/step - loss: 0.4303 - mae: 0.4303\n",
      "Epoch 84/100\n",
      "1/1 [==============================] - 0s 16ms/step - loss: 0.2821 - mae: 0.2821\n",
      "Epoch 85/100\n",
      "1/1 [==============================] - 0s 18ms/step - loss: 0.2960 - mae: 0.2960\n",
      "Epoch 86/100\n",
      "1/1 [==============================] - 0s 16ms/step - loss: 0.1413 - mae: 0.1413\n",
      "Epoch 87/100\n",
      "1/1 [==============================] - 0s 17ms/step - loss: 0.3405 - mae: 0.3405\n",
      "Epoch 88/100\n"
     ]
    },
    {
     "name": "stdout",
     "output_type": "stream",
     "text": [
      "1/1 [==============================] - 0s 17ms/step - loss: 0.2799 - mae: 0.2799\n",
      "Epoch 89/100\n",
      "1/1 [==============================] - 0s 19ms/step - loss: 0.1821 - mae: 0.1821\n",
      "Epoch 90/100\n",
      "1/1 [==============================] - 0s 18ms/step - loss: 0.2994 - mae: 0.2994\n",
      "Epoch 91/100\n",
      "1/1 [==============================] - 0s 16ms/step - loss: 0.2149 - mae: 0.2149\n",
      "Epoch 92/100\n",
      "1/1 [==============================] - 0s 18ms/step - loss: 0.3086 - mae: 0.3086\n",
      "Epoch 93/100\n",
      "1/1 [==============================] - 0s 16ms/step - loss: 0.2298 - mae: 0.2298\n",
      "Epoch 94/100\n",
      "1/1 [==============================] - 0s 17ms/step - loss: 0.2050 - mae: 0.2050\n",
      "Epoch 95/100\n",
      "1/1 [==============================] - 0s 15ms/step - loss: 0.1104 - mae: 0.1104\n",
      "Epoch 96/100\n",
      "1/1 [==============================] - 0s 17ms/step - loss: 0.2790 - mae: 0.2790\n",
      "Epoch 97/100\n",
      "1/1 [==============================] - 0s 16ms/step - loss: 0.3146 - mae: 0.3146\n",
      "Epoch 98/100\n",
      "1/1 [==============================] - 0s 17ms/step - loss: 0.1537 - mae: 0.1537\n",
      "Epoch 99/100\n",
      "1/1 [==============================] - 0s 18ms/step - loss: 0.2826 - mae: 0.2826\n",
      "Epoch 100/100\n",
      "1/1 [==============================] - 0s 16ms/step - loss: 0.2584 - mae: 0.2584\n"
     ]
    },
    {
     "data": {
      "text/plain": [
       "<keras.src.callbacks.History at 0x144a2a85410>"
      ]
     },
     "execution_count": 10,
     "metadata": {},
     "output_type": "execute_result"
    }
   ],
   "source": [
    "model = tf.keras.Sequential([\n",
    "    tf.keras.Input(shape=(1,)),\n",
    "    tf.keras.layers.Dense(50 , activation=None),\n",
    "    tf.keras.layers.Dense(1)\n",
    "])\n",
    "\n",
    "\n",
    "# Compile Model\n",
    "\n",
    "# mae = Mean absolute error\n",
    "# SGD = Stochastic Gradient Decent\n",
    "model.compile(loss=tf.keras.losses.mae ,\n",
    "             optimizer=tf.keras.optimizers.Adam(learning_rate=0.01),\n",
    "              metrics=[\"mae\"]\n",
    "             ) \n",
    "\n",
    "# Fit the model\n",
    "\n",
    "model.fit(X, Y , epochs=100)"
   ]
  },
  {
   "cell_type": "code",
   "execution_count": 11,
   "id": "1da72bad",
   "metadata": {},
   "outputs": [
    {
     "name": "stdout",
     "output_type": "stream",
     "text": [
      "1/1 [==============================] - 0s 247ms/step\n"
     ]
    },
    {
     "data": {
      "text/plain": [
       "array([[26.999992]], dtype=float32)"
      ]
     },
     "execution_count": 11,
     "metadata": {},
     "output_type": "execute_result"
    }
   ],
   "source": [
    "model.predict([17.0])"
   ]
  },
  {
   "cell_type": "markdown",
   "id": "03cfac43",
   "metadata": {},
   "source": [
    "### Evaluating a model"
   ]
  },
  {
   "cell_type": "code",
   "execution_count": 12,
   "id": "655955b2",
   "metadata": {},
   "outputs": [
    {
     "data": {
      "text/plain": [
       "<tf.Tensor: shape=(50,), dtype=int32, numpy=\n",
       "array([-100,  -96,  -92,  -88,  -84,  -80,  -76,  -72,  -68,  -64,  -60,\n",
       "        -56,  -52,  -48,  -44,  -40,  -36,  -32,  -28,  -24,  -20,  -16,\n",
       "        -12,   -8,   -4,    0,    4,    8,   12,   16,   20,   24,   28,\n",
       "         32,   36,   40,   44,   48,   52,   56,   60,   64,   68,   72,\n",
       "         76,   80,   84,   88,   92,   96])>"
      ]
     },
     "execution_count": 12,
     "metadata": {},
     "output_type": "execute_result"
    }
   ],
   "source": [
    "X = tf.range(-100 , 100 , 4)\n",
    "X"
   ]
  },
  {
   "cell_type": "code",
   "execution_count": 13,
   "id": "12f8f59e",
   "metadata": {},
   "outputs": [
    {
     "data": {
      "text/plain": [
       "<tf.Tensor: shape=(50,), dtype=int32, numpy=\n",
       "array([-90, -86, -82, -78, -74, -70, -66, -62, -58, -54, -50, -46, -42,\n",
       "       -38, -34, -30, -26, -22, -18, -14, -10,  -6,  -2,   2,   6,  10,\n",
       "        14,  18,  22,  26,  30,  34,  38,  42,  46,  50,  54,  58,  62,\n",
       "        66,  70,  74,  78,  82,  86,  90,  94,  98, 102, 106])>"
      ]
     },
     "execution_count": 13,
     "metadata": {},
     "output_type": "execute_result"
    }
   ],
   "source": [
    "Y = X + 10\n",
    "Y"
   ]
  },
  {
   "cell_type": "code",
   "execution_count": 14,
   "id": "fd867f90",
   "metadata": {},
   "outputs": [
    {
     "data": {
      "text/plain": [
       "(<tf.Tensor: shape=(50, 1), dtype=int32, numpy=\n",
       " array([[-100],\n",
       "        [ -96],\n",
       "        [ -92],\n",
       "        [ -88],\n",
       "        [ -84],\n",
       "        [ -80],\n",
       "        [ -76],\n",
       "        [ -72],\n",
       "        [ -68],\n",
       "        [ -64],\n",
       "        [ -60],\n",
       "        [ -56],\n",
       "        [ -52],\n",
       "        [ -48],\n",
       "        [ -44],\n",
       "        [ -40],\n",
       "        [ -36],\n",
       "        [ -32],\n",
       "        [ -28],\n",
       "        [ -24],\n",
       "        [ -20],\n",
       "        [ -16],\n",
       "        [ -12],\n",
       "        [  -8],\n",
       "        [  -4],\n",
       "        [   0],\n",
       "        [   4],\n",
       "        [   8],\n",
       "        [  12],\n",
       "        [  16],\n",
       "        [  20],\n",
       "        [  24],\n",
       "        [  28],\n",
       "        [  32],\n",
       "        [  36],\n",
       "        [  40],\n",
       "        [  44],\n",
       "        [  48],\n",
       "        [  52],\n",
       "        [  56],\n",
       "        [  60],\n",
       "        [  64],\n",
       "        [  68],\n",
       "        [  72],\n",
       "        [  76],\n",
       "        [  80],\n",
       "        [  84],\n",
       "        [  88],\n",
       "        [  92],\n",
       "        [  96]])>,\n",
       " <tf.Tensor: shape=(50, 1), dtype=int32, numpy=\n",
       " array([[-90],\n",
       "        [-86],\n",
       "        [-82],\n",
       "        [-78],\n",
       "        [-74],\n",
       "        [-70],\n",
       "        [-66],\n",
       "        [-62],\n",
       "        [-58],\n",
       "        [-54],\n",
       "        [-50],\n",
       "        [-46],\n",
       "        [-42],\n",
       "        [-38],\n",
       "        [-34],\n",
       "        [-30],\n",
       "        [-26],\n",
       "        [-22],\n",
       "        [-18],\n",
       "        [-14],\n",
       "        [-10],\n",
       "        [ -6],\n",
       "        [ -2],\n",
       "        [  2],\n",
       "        [  6],\n",
       "        [ 10],\n",
       "        [ 14],\n",
       "        [ 18],\n",
       "        [ 22],\n",
       "        [ 26],\n",
       "        [ 30],\n",
       "        [ 34],\n",
       "        [ 38],\n",
       "        [ 42],\n",
       "        [ 46],\n",
       "        [ 50],\n",
       "        [ 54],\n",
       "        [ 58],\n",
       "        [ 62],\n",
       "        [ 66],\n",
       "        [ 70],\n",
       "        [ 74],\n",
       "        [ 78],\n",
       "        [ 82],\n",
       "        [ 86],\n",
       "        [ 90],\n",
       "        [ 94],\n",
       "        [ 98],\n",
       "        [102],\n",
       "        [106]])>)"
      ]
     },
     "execution_count": 14,
     "metadata": {},
     "output_type": "execute_result"
    }
   ],
   "source": [
    "X = tf.reshape(X , (-1, 1))\n",
    "Y = tf.reshape(Y , (-1, 1))\n",
    "X , Y"
   ]
  },
  {
   "cell_type": "code",
   "execution_count": 15,
   "id": "5f3c7f55",
   "metadata": {},
   "outputs": [
    {
     "data": {
      "text/plain": [
       "<matplotlib.collections.PathCollection at 0x144a26493d0>"
      ]
     },
     "execution_count": 15,
     "metadata": {},
     "output_type": "execute_result"
    },
    {
     "data": {
      "image/png": "[encoded data removed]",
      "text/plain": [
       "<Figure size 640x480 with 1 Axes>"
      ]
     },
     "metadata": {},
     "output_type": "display_data"
    }
   ],
   "source": [
    "plt.scatter(X, Y)"
   ]
  },
  {
   "cell_type": "markdown",
   "id": "155e70b9",
   "metadata": {},
   "source": [
    "### Spliting the Data in Training , Test and Validation data"
   ]
  },
  {
   "cell_type": "code",
   "execution_count": 16,
   "id": "04d578c6",
   "metadata": {},
   "outputs": [
    {
     "data": {
      "text/plain": [
       "50"
      ]
     },
     "execution_count": 16,
     "metadata": {},
     "output_type": "execute_result"
    }
   ],
   "source": [
    " len(X) # We are going to skip the validation ser"
   ]
  },
  {
   "cell_type": "code",
   "execution_count": 17,
   "id": "a7d0bd8c",
   "metadata": {},
   "outputs": [
    {
     "data": {
      "text/plain": [
       "(40, 10, 40, 10)"
      ]
     },
     "execution_count": 17,
     "metadata": {},
     "output_type": "execute_result"
    }
   ],
   "source": [
    "X_train = X[:40]\n",
    "X_test = X[40:]\n",
    "\n",
    "Y_train = Y[:40]\n",
    "Y_test = Y[40:]\n",
    "\n",
    "len(X_train) , len(X_test), len(Y_train) , len(Y_test)\n"
   ]
  },
  {
   "cell_type": "code",
   "execution_count": 18,
   "id": "a17aaf5b",
   "metadata": {},
   "outputs": [
    {
     "data": {
      "text/plain": [
       "<matplotlib.legend.Legend at 0x144a4cbc310>"
      ]
     },
     "execution_count": 18,
     "metadata": {},
     "output_type": "execute_result"
    },
    {
     "data": {
      "image/png": "[encoded data removed]",
      "text/plain": [
       "<Figure size 1000x700 with 1 Axes>"
      ]
     },
     "metadata": {},
     "output_type": "display_data"
    }
   ],
   "source": [
    "# Visualizing the data \n",
    "plt.figure(figsize=(10 , 7))\n",
    "plt.scatter(X_train , Y_train , c='b' , label=\"Training Data\")\n",
    "plt.scatter(X_test , Y_test , c='g' , label=\"Testing Data\")\n",
    "plt.legend()"
   ]
  },
  {
   "cell_type": "code",
   "execution_count": 19,
   "id": "eb446187",
   "metadata": {},
   "outputs": [],
   "source": [
    "model = tf.keras.Sequential([\n",
    "    tf.keras.Input(shape=(1,)),\n",
    "    tf.keras.layers.Dense(50 , activation=None),\n",
    "    tf.keras.layers.Dense(1)\n",
    "])\n",
    "\n",
    "\n",
    "# Compile Model\n",
    "\n",
    "# mae = Mean absolute error\n",
    "# SGD = Stochastic Gradient Decent\n",
    "model.compile(loss=tf.keras.losses.mae ,\n",
    "             optimizer=tf.keras.optimizers.Adam(learning_rate=0.01),\n",
    "              metrics=[\"mae\"]\n",
    "             ) "
   ]
  },
  {
   "cell_type": "code",
   "execution_count": 20,
   "id": "b61b9ba3",
   "metadata": {},
   "outputs": [
    {
     "name": "stdout",
     "output_type": "stream",
     "text": [
      "Model: \"sequential_2\"\n",
      "_________________________________________________________________\n",
      " Layer (type)                Output Shape              Param #   \n",
      "=================================================================\n",
      " dense_3 (Dense)             (None, 50)                100       \n",
      "                                                                 \n",
      " dense_4 (Dense)             (None, 1)                 51        \n",
      "                                                                 \n",
      "=================================================================\n",
      "Total params: 151 (604.00 Byte)\n",
      "Trainable params: 151 (604.00 Byte)\n",
      "Non-trainable params: 0 (0.00 Byte)\n",
      "_________________________________________________________________\n"
     ]
    }
   ],
   "source": [
    "model.summary()"
   ]
  },
  {
   "cell_type": "code",
   "execution_count": 21,
   "id": "21e1b12f",
   "metadata": {},
   "outputs": [
    {
     "name": "stdout",
     "output_type": "stream",
     "text": [
      "Epoch 1/100\n",
      "2/2 [==============================] - 2s 12ms/step - loss: 31.5596 - mae: 31.5596\n",
      "Epoch 2/100\n",
      "2/2 [==============================] - 0s 13ms/step - loss: 17.1297 - mae: 17.1297\n",
      "Epoch 3/100\n",
      "2/2 [==============================] - 0s 14ms/step - loss: 8.1293 - mae: 8.1293\n",
      "Epoch 4/100\n",
      "2/2 [==============================] - 0s 13ms/step - loss: 12.1027 - mae: 12.1027\n",
      "Epoch 5/100\n",
      "2/2 [==============================] - 0s 12ms/step - loss: 13.1924 - mae: 13.1924\n",
      "Epoch 6/100\n",
      "2/2 [==============================] - 0s 14ms/step - loss: 12.4778 - mae: 12.4778\n",
      "Epoch 7/100\n",
      "2/2 [==============================] - 0s 16ms/step - loss: 10.5360 - mae: 10.5360\n",
      "Epoch 8/100\n",
      "2/2 [==============================] - 0s 15ms/step - loss: 7.7577 - mae: 7.7577\n",
      "Epoch 9/100\n",
      "2/2 [==============================] - 0s 14ms/step - loss: 7.7404 - mae: 7.7404\n",
      "Epoch 10/100\n",
      "2/2 [==============================] - 0s 13ms/step - loss: 7.0162 - mae: 7.0162\n",
      "Epoch 11/100\n",
      "2/2 [==============================] - 0s 13ms/step - loss: 7.7366 - mae: 7.7366\n",
      "Epoch 12/100\n",
      "2/2 [==============================] - 0s 18ms/step - loss: 7.7494 - mae: 7.7494\n",
      "Epoch 13/100\n",
      "2/2 [==============================] - 0s 14ms/step - loss: 6.7153 - mae: 6.7153\n",
      "Epoch 14/100\n",
      "2/2 [==============================] - 0s 14ms/step - loss: 6.6200 - mae: 6.6200\n",
      "Epoch 15/100\n",
      "2/2 [==============================] - 0s 13ms/step - loss: 6.2476 - mae: 6.2476\n",
      "Epoch 16/100\n",
      "2/2 [==============================] - 0s 13ms/step - loss: 6.6615 - mae: 6.6615\n",
      "Epoch 17/100\n",
      "2/2 [==============================] - 0s 13ms/step - loss: 6.4357 - mae: 6.4357\n",
      "Epoch 18/100\n",
      "2/2 [==============================] - 0s 15ms/step - loss: 5.9508 - mae: 5.9508\n",
      "Epoch 19/100\n",
      "2/2 [==============================] - 0s 13ms/step - loss: 5.8250 - mae: 5.8250\n",
      "Epoch 20/100\n",
      "2/2 [==============================] - 0s 14ms/step - loss: 5.6440 - mae: 5.6440\n",
      "Epoch 21/100\n",
      "2/2 [==============================] - 0s 13ms/step - loss: 5.4798 - mae: 5.4798\n",
      "Epoch 22/100\n",
      "2/2 [==============================] - 0s 14ms/step - loss: 5.4694 - mae: 5.4694\n",
      "Epoch 23/100\n",
      "2/2 [==============================] - 0s 13ms/step - loss: 5.3655 - mae: 5.3655\n",
      "Epoch 24/100\n",
      "2/2 [==============================] - 0s 13ms/step - loss: 5.1546 - mae: 5.1546\n",
      "Epoch 25/100\n",
      "2/2 [==============================] - 0s 15ms/step - loss: 4.9121 - mae: 4.9121\n",
      "Epoch 26/100\n",
      "2/2 [==============================] - 0s 12ms/step - loss: 4.7596 - mae: 4.7596\n",
      "Epoch 27/100\n",
      "2/2 [==============================] - 0s 13ms/step - loss: 4.6002 - mae: 4.6002\n",
      "Epoch 28/100\n",
      "2/2 [==============================] - 0s 11ms/step - loss: 4.4103 - mae: 4.4103\n",
      "Epoch 29/100\n",
      "2/2 [==============================] - 0s 12ms/step - loss: 4.2856 - mae: 4.2856\n",
      "Epoch 30/100\n",
      "2/2 [==============================] - 0s 12ms/step - loss: 4.1620 - mae: 4.1620\n",
      "Epoch 31/100\n",
      "2/2 [==============================] - 0s 13ms/step - loss: 4.3301 - mae: 4.3301\n",
      "Epoch 32/100\n",
      "2/2 [==============================] - 0s 12ms/step - loss: 4.6762 - mae: 4.6762\n",
      "Epoch 33/100\n",
      "2/2 [==============================] - 0s 14ms/step - loss: 3.6870 - mae: 3.6870\n",
      "Epoch 34/100\n",
      "2/2 [==============================] - 0s 14ms/step - loss: 3.9250 - mae: 3.9250\n",
      "Epoch 35/100\n",
      "2/2 [==============================] - 0s 15ms/step - loss: 3.1861 - mae: 3.1861\n",
      "Epoch 36/100\n",
      "2/2 [==============================] - 0s 12ms/step - loss: 3.3293 - mae: 3.3293\n",
      "Epoch 37/100\n",
      "2/2 [==============================] - 0s 12ms/step - loss: 2.8939 - mae: 2.8939\n",
      "Epoch 38/100\n",
      "2/2 [==============================] - 0s 12ms/step - loss: 2.6264 - mae: 2.6264\n",
      "Epoch 39/100\n",
      "2/2 [==============================] - 0s 13ms/step - loss: 2.6648 - mae: 2.6648\n",
      "Epoch 40/100\n",
      "2/2 [==============================] - 0s 12ms/step - loss: 2.1992 - mae: 2.1992\n",
      "Epoch 41/100\n",
      "2/2 [==============================] - 0s 16ms/step - loss: 1.9807 - mae: 1.9807\n",
      "Epoch 42/100\n",
      "2/2 [==============================] - 0s 13ms/step - loss: 1.6612 - mae: 1.6612\n",
      "Epoch 43/100\n",
      "2/2 [==============================] - 0s 13ms/step - loss: 1.3060 - mae: 1.3060\n",
      "Epoch 44/100\n",
      "2/2 [==============================] - 0s 14ms/step - loss: 1.2490 - mae: 1.2490\n",
      "Epoch 45/100\n",
      "2/2 [==============================] - 0s 13ms/step - loss: 0.8905 - mae: 0.8905\n",
      "Epoch 46/100\n",
      "2/2 [==============================] - 0s 15ms/step - loss: 1.3445 - mae: 1.3445\n",
      "Epoch 47/100\n",
      "2/2 [==============================] - 0s 14ms/step - loss: 2.0159 - mae: 2.0159\n",
      "Epoch 48/100\n",
      "2/2 [==============================] - 0s 12ms/step - loss: 0.4956 - mae: 0.4956\n",
      "Epoch 49/100\n",
      "2/2 [==============================] - 0s 15ms/step - loss: 0.4303 - mae: 0.4303\n",
      "Epoch 50/100\n",
      "2/2 [==============================] - 0s 12ms/step - loss: 0.8451 - mae: 0.8451\n",
      "Epoch 51/100\n",
      "2/2 [==============================] - 0s 11ms/step - loss: 0.7717 - mae: 0.7717\n",
      "Epoch 52/100\n",
      "2/2 [==============================] - 0s 14ms/step - loss: 1.4586 - mae: 1.4586\n",
      "Epoch 53/100\n",
      "2/2 [==============================] - 0s 15ms/step - loss: 0.6572 - mae: 0.6572\n",
      "Epoch 54/100\n",
      "2/2 [==============================] - 0s 14ms/step - loss: 0.6543 - mae: 0.6543\n",
      "Epoch 55/100\n",
      "2/2 [==============================] - 0s 11ms/step - loss: 1.1443 - mae: 1.1443\n",
      "Epoch 56/100\n",
      "2/2 [==============================] - 0s 13ms/step - loss: 0.5696 - mae: 0.5696\n",
      "Epoch 57/100\n",
      "2/2 [==============================] - 0s 13ms/step - loss: 2.7698 - mae: 2.7698\n",
      "Epoch 58/100\n",
      "2/2 [==============================] - 0s 14ms/step - loss: 0.6331 - mae: 0.6331\n",
      "Epoch 59/100\n",
      "2/2 [==============================] - 0s 13ms/step - loss: 3.0830 - mae: 3.0830\n",
      "Epoch 60/100\n",
      "2/2 [==============================] - 0s 13ms/step - loss: 1.2811 - mae: 1.2811\n",
      "Epoch 61/100\n",
      "2/2 [==============================] - 0s 13ms/step - loss: 2.5693 - mae: 2.5693\n",
      "Epoch 62/100\n",
      "2/2 [==============================] - 0s 14ms/step - loss: 1.0077 - mae: 1.0077\n",
      "Epoch 63/100\n",
      "2/2 [==============================] - 0s 14ms/step - loss: 2.9455 - mae: 2.9455\n",
      "Epoch 64/100\n",
      "2/2 [==============================] - 0s 13ms/step - loss: 1.3626 - mae: 1.3626\n",
      "Epoch 65/100\n",
      "2/2 [==============================] - 0s 12ms/step - loss: 1.9068 - mae: 1.9068\n",
      "Epoch 66/100\n",
      "2/2 [==============================] - 0s 14ms/step - loss: 0.7130 - mae: 0.7130\n",
      "Epoch 67/100\n",
      "2/2 [==============================] - 0s 14ms/step - loss: 2.3812 - mae: 2.3812\n",
      "Epoch 68/100\n",
      "2/2 [==============================] - 0s 12ms/step - loss: 0.5309 - mae: 0.5309\n",
      "Epoch 69/100\n",
      "2/2 [==============================] - 0s 14ms/step - loss: 2.1222 - mae: 2.1222\n",
      "Epoch 70/100\n",
      "2/2 [==============================] - 0s 13ms/step - loss: 0.2766 - mae: 0.2766\n",
      "Epoch 71/100\n",
      "2/2 [==============================] - 0s 13ms/step - loss: 0.3224 - mae: 0.3224\n",
      "Epoch 72/100\n",
      "2/2 [==============================] - 0s 12ms/step - loss: 0.9847 - mae: 0.9847\n",
      "Epoch 73/100\n",
      "2/2 [==============================] - 0s 13ms/step - loss: 0.4970 - mae: 0.4970\n",
      "Epoch 74/100\n",
      "2/2 [==============================] - 0s 13ms/step - loss: 0.9494 - mae: 0.9494\n",
      "Epoch 75/100\n",
      "2/2 [==============================] - 0s 13ms/step - loss: 0.5366 - mae: 0.5366\n",
      "Epoch 76/100\n",
      "2/2 [==============================] - 0s 14ms/step - loss: 1.8439 - mae: 1.8439\n",
      "Epoch 77/100\n",
      "2/2 [==============================] - 0s 12ms/step - loss: 0.6998 - mae: 0.6998\n",
      "Epoch 78/100\n",
      "2/2 [==============================] - 0s 13ms/step - loss: 0.6674 - mae: 0.6674\n",
      "Epoch 79/100\n",
      "2/2 [==============================] - 0s 13ms/step - loss: 0.8071 - mae: 0.8071\n",
      "Epoch 80/100\n",
      "2/2 [==============================] - 0s 13ms/step - loss: 2.3210 - mae: 2.3210\n",
      "Epoch 81/100\n",
      "2/2 [==============================] - 0s 14ms/step - loss: 2.7263 - mae: 2.7263\n",
      "Epoch 82/100\n",
      "2/2 [==============================] - 0s 12ms/step - loss: 0.3577 - mae: 0.3577\n",
      "Epoch 83/100\n",
      "2/2 [==============================] - 0s 13ms/step - loss: 0.3576 - mae: 0.3576\n",
      "Epoch 84/100\n",
      "2/2 [==============================] - 0s 14ms/step - loss: 2.1045 - mae: 2.1045\n",
      "Epoch 85/100\n",
      "2/2 [==============================] - 0s 12ms/step - loss: 0.7268 - mae: 0.7268\n",
      "Epoch 86/100\n",
      "2/2 [==============================] - 0s 38ms/step - loss: 3.1115 - mae: 3.1115\n",
      "Epoch 87/100\n",
      "2/2 [==============================] - 0s 11ms/step - loss: 1.4225 - mae: 1.4225\n",
      "Epoch 88/100\n"
     ]
    },
    {
     "name": "stdout",
     "output_type": "stream",
     "text": [
      "2/2 [==============================] - 0s 12ms/step - loss: 0.7300 - mae: 0.7300\n",
      "Epoch 89/100\n",
      "2/2 [==============================] - 0s 14ms/step - loss: 1.1458 - mae: 1.1458\n",
      "Epoch 90/100\n",
      "2/2 [==============================] - 0s 13ms/step - loss: 0.6213 - mae: 0.6213\n",
      "Epoch 91/100\n",
      "2/2 [==============================] - 0s 12ms/step - loss: 1.9987 - mae: 1.9987\n",
      "Epoch 92/100\n",
      "2/2 [==============================] - 0s 13ms/step - loss: 0.5972 - mae: 0.5972\n",
      "Epoch 93/100\n",
      "2/2 [==============================] - 0s 13ms/step - loss: 3.3353 - mae: 3.3353\n",
      "Epoch 94/100\n",
      "2/2 [==============================] - 0s 12ms/step - loss: 2.1046 - mae: 2.1046\n",
      "Epoch 95/100\n",
      "2/2 [==============================] - 0s 13ms/step - loss: 2.1795 - mae: 2.1795\n",
      "Epoch 96/100\n",
      "2/2 [==============================] - 0s 12ms/step - loss: 3.5683 - mae: 3.5683\n",
      "Epoch 97/100\n",
      "2/2 [==============================] - 0s 13ms/step - loss: 1.4149 - mae: 1.4149\n",
      "Epoch 98/100\n",
      "2/2 [==============================] - 0s 12ms/step - loss: 2.3317 - mae: 2.3317\n",
      "Epoch 99/100\n",
      "2/2 [==============================] - 0s 12ms/step - loss: 1.4474 - mae: 1.4474\n",
      "Epoch 100/100\n",
      "2/2 [==============================] - 0s 12ms/step - loss: 2.5304 - mae: 2.5304\n"
     ]
    },
    {
     "data": {
      "text/plain": [
       "<keras.src.callbacks.History at 0x144a1cb5610>"
      ]
     },
     "execution_count": 21,
     "metadata": {},
     "output_type": "execute_result"
    }
   ],
   "source": [
    "# # Fit the model\n",
    "\n",
    "model.fit(X_train, Y_train , epochs=100, verbose=1)"
   ]
  },
  {
   "cell_type": "markdown",
   "id": "e3d1d01d",
   "metadata": {},
   "source": [
    "### Testing the model"
   ]
  },
  {
   "cell_type": "code",
   "execution_count": 22,
   "id": "549fb8d4",
   "metadata": {},
   "outputs": [
    {
     "name": "stdout",
     "output_type": "stream",
     "text": [
      "1/1 [==============================] - 0s 184ms/step\n"
     ]
    },
    {
     "data": {
      "text/plain": [
       "array([[64.48024 ],\n",
       "       [68.124306],\n",
       "       [71.76838 ],\n",
       "       [75.41245 ],\n",
       "       [79.056526],\n",
       "       [82.7006  ],\n",
       "       [86.34467 ],\n",
       "       [89.98875 ],\n",
       "       [93.63282 ],\n",
       "       [97.2769  ]], dtype=float32)"
      ]
     },
     "execution_count": 22,
     "metadata": {},
     "output_type": "execute_result"
    }
   ],
   "source": [
    "y_pred = model.predict(X_test)\n",
    "y_pred"
   ]
  },
  {
   "cell_type": "code",
   "execution_count": 23,
   "id": "6b8fe1e0",
   "metadata": {},
   "outputs": [
    {
     "data": {
      "text/plain": [
       "<tf.Tensor: shape=(10, 1), dtype=int32, numpy=\n",
       "array([[ 70],\n",
       "       [ 74],\n",
       "       [ 78],\n",
       "       [ 82],\n",
       "       [ 86],\n",
       "       [ 90],\n",
       "       [ 94],\n",
       "       [ 98],\n",
       "       [102],\n",
       "       [106]])>"
      ]
     },
     "execution_count": 23,
     "metadata": {},
     "output_type": "execute_result"
    }
   ],
   "source": [
    "Y_test"
   ]
  },
  {
   "cell_type": "code",
   "execution_count": 24,
   "id": "bffe4aec",
   "metadata": {},
   "outputs": [],
   "source": [
    "# Creating a plotting function 🤗\n",
    "\n",
    "def plot_predictions(train_data=X_train,\n",
    "                    train_labels=Y_train,\n",
    "                    test_data=X_test,\n",
    "                    test_labels=Y_test,\n",
    "                    predictions=y_pred):\n",
    "    plt.figure(figsize=(10,7))\n",
    "    plt.scatter(train_data , train_labels , c='b' , label='Training data')\n",
    "    plt.scatter(test_data , test_labels, c='g', label='Testing data')\n",
    "    plt.scatter(test_data, predictions, c='r' , label='Predictions')\n",
    "    plt.legend();"
   ]
  },
  {
   "cell_type": "code",
   "execution_count": 25,
   "id": "7c674cd6",
   "metadata": {},
   "outputs": [
    {
     "data": {
      "image/png": "[encoded data removed]",
      "text/plain": [
       "<Figure size 1000x700 with 1 Axes>"
      ]
     },
     "metadata": {},
     "output_type": "display_data"
    }
   ],
   "source": [
    "plot_predictions(train_data=X_train,\n",
    "                    train_labels=Y_train,\n",
    "                    test_data=X_test,\n",
    "                    test_labels=Y_test,\n",
    "                    predictions=y_pred)"
   ]
  },
  {
   "cell_type": "markdown",
   "id": "c3047770",
   "metadata": {},
   "source": [
    "### Evaluating model using Regression evaluation Metrics"
   ]
  },
  {
   "cell_type": "code",
   "execution_count": 26,
   "id": "1e6877de",
   "metadata": {},
   "outputs": [],
   "source": [
    "# MAE and MSE"
   ]
  },
  {
   "cell_type": "code",
   "execution_count": 27,
   "id": "f481a892",
   "metadata": {},
   "outputs": [
    {
     "name": "stdout",
     "output_type": "stream",
     "text": [
      "1/1 [==============================] - 0s 487ms/step - loss: 7.1214 - mae: 7.1214\n"
     ]
    },
    {
     "data": {
      "text/plain": [
       "[7.121435642242432, 7.121435642242432]"
      ]
     },
     "execution_count": 27,
     "metadata": {},
     "output_type": "execute_result"
    }
   ],
   "source": [
    "model.evaluate(X_test , Y_test)"
   ]
  },
  {
   "cell_type": "code",
   "execution_count": 28,
   "id": "861b1f55",
   "metadata": {},
   "outputs": [
    {
     "data": {
      "text/plain": [
       "<tf.Tensor: shape=(), dtype=float32, numpy=7.1214356>"
      ]
     },
     "execution_count": 28,
     "metadata": {},
     "output_type": "execute_result"
    }
   ],
   "source": [
    "mae = tf.metrics.mean_absolute_error(y_true=tf.squeeze(Y_test) ,y_pred=tf.squeeze(y_pred))\n",
    "mae"
   ]
  },
  {
   "cell_type": "markdown",
   "id": "c81f9c5c",
   "metadata": {},
   "source": [
    "### Saving the model"
   ]
  },
  {
   "cell_type": "code",
   "execution_count": 30,
   "id": "b23fe1f5",
   "metadata": {},
   "outputs": [],
   "source": [
    "# Saving a model allows us to use the model outside the current platform\n",
    "# There are to format in which we can save our model :- \n",
    "# 1. The SavedModel format\n",
    "# 2. The HDF5 format"
   ]
  },
  {
   "cell_type": "code",
   "execution_count": 31,
   "id": "6e094b83",
   "metadata": {},
   "outputs": [
    {
     "name": "stdout",
     "output_type": "stream",
     "text": [
      "INFO:tensorflow:Assets written to: Saved_Model\\assets\n"
     ]
    },
    {
     "name": "stderr",
     "output_type": "stream",
     "text": [
      "INFO:tensorflow:Assets written to: Saved_Model\\assets\n"
     ]
    }
   ],
   "source": [
    "model.save('Saved_Model')"
   ]
  },
  {
   "cell_type": "markdown",
   "id": "ff913ca2",
   "metadata": {},
   "source": [
    "### Loading the Saved model"
   ]
  },
  {
   "cell_type": "code",
   "execution_count": 32,
   "id": "d97edc79",
   "metadata": {},
   "outputs": [
    {
     "name": "stdout",
     "output_type": "stream",
     "text": [
      "WARNING:tensorflow:From D:\\Apps\\Anaconda\\Lib\\site-packages\\keras\\src\\saving\\legacy\\saved_model\\load.py:107: The name tf.gfile.Exists is deprecated. Please use tf.io.gfile.exists instead.\n",
      "\n"
     ]
    },
    {
     "name": "stderr",
     "output_type": "stream",
     "text": [
      "WARNING:tensorflow:From D:\\Apps\\Anaconda\\Lib\\site-packages\\keras\\src\\saving\\legacy\\saved_model\\load.py:107: The name tf.gfile.Exists is deprecated. Please use tf.io.gfile.exists instead.\n",
      "\n"
     ]
    },
    {
     "name": "stdout",
     "output_type": "stream",
     "text": [
      "Model: \"sequential_2\"\n",
      "_________________________________________________________________\n",
      " Layer (type)                Output Shape              Param #   \n",
      "=================================================================\n",
      " dense_3 (Dense)             (None, 50)                100       \n",
      "                                                                 \n",
      " dense_4 (Dense)             (None, 1)                 51        \n",
      "                                                                 \n",
      "=================================================================\n",
      "Total params: 151 (604.00 Byte)\n",
      "Trainable params: 151 (604.00 Byte)\n",
      "Non-trainable params: 0 (0.00 Byte)\n",
      "_________________________________________________________________\n"
     ]
    }
   ],
   "source": [
    "saved_model = tf.keras.models.load_model('Saved_Model')\n",
    "saved_model.summary()"
   ]
  },
  {
   "cell_type": "markdown",
   "id": "645127a8",
   "metadata": {},
   "source": [
    "## Real word Example "
   ]
  },
  {
   "cell_type": "code",
   "execution_count": 33,
   "id": "1234dafa",
   "metadata": {},
   "outputs": [],
   "source": [
    "import pandas as pd"
   ]
  },
  {
   "cell_type": "code",
   "execution_count": 34,
   "id": "9b8b0595",
   "metadata": {},
   "outputs": [
    {
     "data": {
      "text/html": [
       "<div>\n",
       "<style scoped>\n",
       "    .dataframe tbody tr th:only-of-type {\n",
       "        vertical-align: middle;\n",
       "    }\n",
       "\n",
       "    .dataframe tbody tr th {\n",
       "        vertical-align: top;\n",
       "    }\n",
       "\n",
       "    .dataframe thead th {\n",
       "        text-align: right;\n",
       "    }\n",
       "</style>\n",
       "<table border=\"1\" class=\"dataframe\">\n",
       "  <thead>\n",
       "    <tr style=\"text-align: right;\">\n",
       "      <th></th>\n",
       "      <th>age</th>\n",
       "      <th>sex</th>\n",
       "      <th>bmi</th>\n",
       "      <th>children</th>\n",
       "      <th>smoker</th>\n",
       "      <th>region</th>\n",
       "      <th>charges</th>\n",
       "    </tr>\n",
       "  </thead>\n",
       "  <tbody>\n",
       "    <tr>\n",
       "      <th>0</th>\n",
       "      <td>19</td>\n",
       "      <td>female</td>\n",
       "      <td>27.900</td>\n",
       "      <td>0</td>\n",
       "      <td>yes</td>\n",
       "      <td>southwest</td>\n",
       "      <td>16884.92400</td>\n",
       "    </tr>\n",
       "    <tr>\n",
       "      <th>1</th>\n",
       "      <td>18</td>\n",
       "      <td>male</td>\n",
       "      <td>33.770</td>\n",
       "      <td>1</td>\n",
       "      <td>no</td>\n",
       "      <td>southeast</td>\n",
       "      <td>1725.55230</td>\n",
       "    </tr>\n",
       "    <tr>\n",
       "      <th>2</th>\n",
       "      <td>28</td>\n",
       "      <td>male</td>\n",
       "      <td>33.000</td>\n",
       "      <td>3</td>\n",
       "      <td>no</td>\n",
       "      <td>southeast</td>\n",
       "      <td>4449.46200</td>\n",
       "    </tr>\n",
       "    <tr>\n",
       "      <th>3</th>\n",
       "      <td>33</td>\n",
       "      <td>male</td>\n",
       "      <td>22.705</td>\n",
       "      <td>0</td>\n",
       "      <td>no</td>\n",
       "      <td>northwest</td>\n",
       "      <td>21984.47061</td>\n",
       "    </tr>\n",
       "    <tr>\n",
       "      <th>4</th>\n",
       "      <td>32</td>\n",
       "      <td>male</td>\n",
       "      <td>28.880</td>\n",
       "      <td>0</td>\n",
       "      <td>no</td>\n",
       "      <td>northwest</td>\n",
       "      <td>3866.85520</td>\n",
       "    </tr>\n",
       "  </tbody>\n",
       "</table>\n",
       "</div>"
      ],
      "text/plain": [
       "   age     sex     bmi  children smoker     region      charges\n",
       "0   19  female  27.900         0    yes  southwest  16884.92400\n",
       "1   18    male  33.770         1     no  southeast   1725.55230\n",
       "2   28    male  33.000         3     no  southeast   4449.46200\n",
       "3   33    male  22.705         0     no  northwest  21984.47061\n",
       "4   32    male  28.880         0     no  northwest   3866.85520"
      ]
     },
     "execution_count": 34,
     "metadata": {},
     "output_type": "execute_result"
    }
   ],
   "source": [
    "raw_data = pd.read_csv('https://raw.githubusercontent.com/stedy/Machine-Learning-with-R-datasets/master/insurance.csv')\n",
    "raw_data.head()"
   ]
  },
  {
   "cell_type": "code",
   "execution_count": 35,
   "id": "a56d2e61",
   "metadata": {},
   "outputs": [
    {
     "name": "stdout",
     "output_type": "stream",
     "text": [
      "<class 'pandas.core.frame.DataFrame'>\n",
      "RangeIndex: 1338 entries, 0 to 1337\n",
      "Data columns (total 7 columns):\n",
      " #   Column    Non-Null Count  Dtype  \n",
      "---  ------    --------------  -----  \n",
      " 0   age       1338 non-null   int64  \n",
      " 1   sex       1338 non-null   object \n",
      " 2   bmi       1338 non-null   float64\n",
      " 3   children  1338 non-null   int64  \n",
      " 4   smoker    1338 non-null   object \n",
      " 5   region    1338 non-null   object \n",
      " 6   charges   1338 non-null   float64\n",
      "dtypes: float64(2), int64(2), object(3)\n",
      "memory usage: 73.3+ KB\n"
     ]
    }
   ],
   "source": [
    "raw_data.info()"
   ]
  },
  {
   "cell_type": "code",
   "execution_count": 36,
   "id": "e3a9e331",
   "metadata": {},
   "outputs": [],
   "source": [
    "df = raw_data.copy()"
   ]
  },
  {
   "cell_type": "code",
   "execution_count": 38,
   "id": "70a237e9",
   "metadata": {},
   "outputs": [
    {
     "data": {
      "text/html": [
       "<div>\n",
       "<style scoped>\n",
       "    .dataframe tbody tr th:only-of-type {\n",
       "        vertical-align: middle;\n",
       "    }\n",
       "\n",
       "    .dataframe tbody tr th {\n",
       "        vertical-align: top;\n",
       "    }\n",
       "\n",
       "    .dataframe thead th {\n",
       "        text-align: right;\n",
       "    }\n",
       "</style>\n",
       "<table border=\"1\" class=\"dataframe\">\n",
       "  <thead>\n",
       "    <tr style=\"text-align: right;\">\n",
       "      <th></th>\n",
       "      <th>age</th>\n",
       "      <th>bmi</th>\n",
       "      <th>children</th>\n",
       "      <th>charges</th>\n",
       "      <th>sex_female</th>\n",
       "      <th>sex_male</th>\n",
       "      <th>smoker_no</th>\n",
       "      <th>smoker_yes</th>\n",
       "      <th>region_northeast</th>\n",
       "      <th>region_northwest</th>\n",
       "      <th>region_southeast</th>\n",
       "      <th>region_southwest</th>\n",
       "    </tr>\n",
       "  </thead>\n",
       "  <tbody>\n",
       "    <tr>\n",
       "      <th>0</th>\n",
       "      <td>19</td>\n",
       "      <td>27.900</td>\n",
       "      <td>0</td>\n",
       "      <td>16884.92400</td>\n",
       "      <td>1</td>\n",
       "      <td>0</td>\n",
       "      <td>0</td>\n",
       "      <td>1</td>\n",
       "      <td>0</td>\n",
       "      <td>0</td>\n",
       "      <td>0</td>\n",
       "      <td>1</td>\n",
       "    </tr>\n",
       "    <tr>\n",
       "      <th>1</th>\n",
       "      <td>18</td>\n",
       "      <td>33.770</td>\n",
       "      <td>1</td>\n",
       "      <td>1725.55230</td>\n",
       "      <td>0</td>\n",
       "      <td>1</td>\n",
       "      <td>1</td>\n",
       "      <td>0</td>\n",
       "      <td>0</td>\n",
       "      <td>0</td>\n",
       "      <td>1</td>\n",
       "      <td>0</td>\n",
       "    </tr>\n",
       "    <tr>\n",
       "      <th>2</th>\n",
       "      <td>28</td>\n",
       "      <td>33.000</td>\n",
       "      <td>3</td>\n",
       "      <td>4449.46200</td>\n",
       "      <td>0</td>\n",
       "      <td>1</td>\n",
       "      <td>1</td>\n",
       "      <td>0</td>\n",
       "      <td>0</td>\n",
       "      <td>0</td>\n",
       "      <td>1</td>\n",
       "      <td>0</td>\n",
       "    </tr>\n",
       "    <tr>\n",
       "      <th>3</th>\n",
       "      <td>33</td>\n",
       "      <td>22.705</td>\n",
       "      <td>0</td>\n",
       "      <td>21984.47061</td>\n",
       "      <td>0</td>\n",
       "      <td>1</td>\n",
       "      <td>1</td>\n",
       "      <td>0</td>\n",
       "      <td>0</td>\n",
       "      <td>1</td>\n",
       "      <td>0</td>\n",
       "      <td>0</td>\n",
       "    </tr>\n",
       "    <tr>\n",
       "      <th>4</th>\n",
       "      <td>32</td>\n",
       "      <td>28.880</td>\n",
       "      <td>0</td>\n",
       "      <td>3866.85520</td>\n",
       "      <td>0</td>\n",
       "      <td>1</td>\n",
       "      <td>1</td>\n",
       "      <td>0</td>\n",
       "      <td>0</td>\n",
       "      <td>1</td>\n",
       "      <td>0</td>\n",
       "      <td>0</td>\n",
       "    </tr>\n",
       "  </tbody>\n",
       "</table>\n",
       "</div>"
      ],
      "text/plain": [
       "   age     bmi  children      charges  sex_female  sex_male  smoker_no  \\\n",
       "0   19  27.900         0  16884.92400           1         0          0   \n",
       "1   18  33.770         1   1725.55230           0         1          1   \n",
       "2   28  33.000         3   4449.46200           0         1          1   \n",
       "3   33  22.705         0  21984.47061           0         1          1   \n",
       "4   32  28.880         0   3866.85520           0         1          1   \n",
       "\n",
       "   smoker_yes  region_northeast  region_northwest  region_southeast  \\\n",
       "0           1                 0                 0                 0   \n",
       "1           0                 0                 0                 1   \n",
       "2           0                 0                 0                 1   \n",
       "3           0                 0                 1                 0   \n",
       "4           0                 0                 1                 0   \n",
       "\n",
       "   region_southwest  \n",
       "0                 1  \n",
       "1                 0  \n",
       "2                 0  \n",
       "3                 0  \n",
       "4                 0  "
      ]
     },
     "execution_count": 38,
     "metadata": {},
     "output_type": "execute_result"
    }
   ],
   "source": [
    "df_one_hot = pd.get_dummies(df , dtype=int)\n",
    "df_one_hot.head()"
   ]
  },
  {
   "cell_type": "code",
   "execution_count": 39,
   "id": "0cbb8270",
   "metadata": {},
   "outputs": [],
   "source": [
    "# Creating features and labels\n",
    "\n",
    "X = df_one_hot.drop(['charges'] , axis=1)\n",
    "Y = df_one_hot['charges']"
   ]
  },
  {
   "cell_type": "code",
   "execution_count": 40,
   "id": "94ada214",
   "metadata": {},
   "outputs": [
    {
     "data": {
      "text/html": [
       "<div>\n",
       "<style scoped>\n",
       "    .dataframe tbody tr th:only-of-type {\n",
       "        vertical-align: middle;\n",
       "    }\n",
       "\n",
       "    .dataframe tbody tr th {\n",
       "        vertical-align: top;\n",
       "    }\n",
       "\n",
       "    .dataframe thead th {\n",
       "        text-align: right;\n",
       "    }\n",
       "</style>\n",
       "<table border=\"1\" class=\"dataframe\">\n",
       "  <thead>\n",
       "    <tr style=\"text-align: right;\">\n",
       "      <th></th>\n",
       "      <th>age</th>\n",
       "      <th>bmi</th>\n",
       "      <th>children</th>\n",
       "      <th>sex_female</th>\n",
       "      <th>sex_male</th>\n",
       "      <th>smoker_no</th>\n",
       "      <th>smoker_yes</th>\n",
       "      <th>region_northeast</th>\n",
       "      <th>region_northwest</th>\n",
       "      <th>region_southeast</th>\n",
       "      <th>region_southwest</th>\n",
       "    </tr>\n",
       "  </thead>\n",
       "  <tbody>\n",
       "    <tr>\n",
       "      <th>0</th>\n",
       "      <td>19</td>\n",
       "      <td>27.900</td>\n",
       "      <td>0</td>\n",
       "      <td>1</td>\n",
       "      <td>0</td>\n",
       "      <td>0</td>\n",
       "      <td>1</td>\n",
       "      <td>0</td>\n",
       "      <td>0</td>\n",
       "      <td>0</td>\n",
       "      <td>1</td>\n",
       "    </tr>\n",
       "    <tr>\n",
       "      <th>1</th>\n",
       "      <td>18</td>\n",
       "      <td>33.770</td>\n",
       "      <td>1</td>\n",
       "      <td>0</td>\n",
       "      <td>1</td>\n",
       "      <td>1</td>\n",
       "      <td>0</td>\n",
       "      <td>0</td>\n",
       "      <td>0</td>\n",
       "      <td>1</td>\n",
       "      <td>0</td>\n",
       "    </tr>\n",
       "    <tr>\n",
       "      <th>2</th>\n",
       "      <td>28</td>\n",
       "      <td>33.000</td>\n",
       "      <td>3</td>\n",
       "      <td>0</td>\n",
       "      <td>1</td>\n",
       "      <td>1</td>\n",
       "      <td>0</td>\n",
       "      <td>0</td>\n",
       "      <td>0</td>\n",
       "      <td>1</td>\n",
       "      <td>0</td>\n",
       "    </tr>\n",
       "    <tr>\n",
       "      <th>3</th>\n",
       "      <td>33</td>\n",
       "      <td>22.705</td>\n",
       "      <td>0</td>\n",
       "      <td>0</td>\n",
       "      <td>1</td>\n",
       "      <td>1</td>\n",
       "      <td>0</td>\n",
       "      <td>0</td>\n",
       "      <td>1</td>\n",
       "      <td>0</td>\n",
       "      <td>0</td>\n",
       "    </tr>\n",
       "    <tr>\n",
       "      <th>4</th>\n",
       "      <td>32</td>\n",
       "      <td>28.880</td>\n",
       "      <td>0</td>\n",
       "      <td>0</td>\n",
       "      <td>1</td>\n",
       "      <td>1</td>\n",
       "      <td>0</td>\n",
       "      <td>0</td>\n",
       "      <td>1</td>\n",
       "      <td>0</td>\n",
       "      <td>0</td>\n",
       "    </tr>\n",
       "  </tbody>\n",
       "</table>\n",
       "</div>"
      ],
      "text/plain": [
       "   age     bmi  children  sex_female  sex_male  smoker_no  smoker_yes  \\\n",
       "0   19  27.900         0           1         0          0           1   \n",
       "1   18  33.770         1           0         1          1           0   \n",
       "2   28  33.000         3           0         1          1           0   \n",
       "3   33  22.705         0           0         1          1           0   \n",
       "4   32  28.880         0           0         1          1           0   \n",
       "\n",
       "   region_northeast  region_northwest  region_southeast  region_southwest  \n",
       "0                 0                 0                 0                 1  \n",
       "1                 0                 0                 1                 0  \n",
       "2                 0                 0                 1                 0  \n",
       "3                 0                 1                 0                 0  \n",
       "4                 0                 1                 0                 0  "
      ]
     },
     "execution_count": 40,
     "metadata": {},
     "output_type": "execute_result"
    }
   ],
   "source": [
    "X.head()"
   ]
  },
  {
   "cell_type": "code",
   "execution_count": 41,
   "id": "7f8a3341",
   "metadata": {},
   "outputs": [
    {
     "data": {
      "text/plain": [
       "0    16884.92400\n",
       "1     1725.55230\n",
       "2     4449.46200\n",
       "3    21984.47061\n",
       "4     3866.85520\n",
       "Name: charges, dtype: float64"
      ]
     },
     "execution_count": 41,
     "metadata": {},
     "output_type": "execute_result"
    }
   ],
   "source": [
    "Y.head()"
   ]
  },
  {
   "cell_type": "code",
   "execution_count": 42,
   "id": "03c51e83",
   "metadata": {},
   "outputs": [
    {
     "data": {
      "text/plain": [
       "(1338, 1070, 268)"
      ]
     },
     "execution_count": 42,
     "metadata": {},
     "output_type": "execute_result"
    }
   ],
   "source": [
    "# Create training and test sets\n",
    "\n",
    "from sklearn.model_selection import train_test_split\n",
    "\n",
    "X_train , X_test , Y_train , Y_test = train_test_split(X, Y , random_state=42 , test_size=0.2)\n",
    "len(X) , len(X_train) , len(X_test)"
   ]
  },
  {
   "cell_type": "code",
   "execution_count": 45,
   "id": "17ea1b6e",
   "metadata": {},
   "outputs": [
    {
     "name": "stdout",
     "output_type": "stream",
     "text": [
      "Epoch 1/100\n",
      "34/34 [==============================] - 4s 6ms/step - loss: 13225.6426 - mae: 13225.6426\n",
      "Epoch 2/100\n",
      "34/34 [==============================] - 0s 5ms/step - loss: 12648.4453 - mae: 12648.4453\n",
      "Epoch 3/100\n",
      "34/34 [==============================] - 0s 5ms/step - loss: 10626.9209 - mae: 10626.9209\n",
      "Epoch 4/100\n",
      "34/34 [==============================] - 0s 5ms/step - loss: 7776.2446 - mae: 7776.2446\n",
      "Epoch 5/100\n",
      "34/34 [==============================] - 0s 5ms/step - loss: 7497.2607 - mae: 7497.2607\n",
      "Epoch 6/100\n",
      "34/34 [==============================] - 0s 5ms/step - loss: 7466.5562 - mae: 7466.5562\n",
      "Epoch 7/100\n",
      "34/34 [==============================] - 0s 5ms/step - loss: 7425.9336 - mae: 7425.9336\n",
      "Epoch 8/100\n",
      "34/34 [==============================] - 0s 5ms/step - loss: 7395.1553 - mae: 7395.1553\n",
      "Epoch 9/100\n",
      "34/34 [==============================] - 0s 6ms/step - loss: 7365.3599 - mae: 7365.3599\n",
      "Epoch 10/100\n",
      "34/34 [==============================] - 0s 6ms/step - loss: 7338.7339 - mae: 7338.7339\n",
      "Epoch 11/100\n",
      "34/34 [==============================] - 0s 6ms/step - loss: 7315.5518 - mae: 7315.5518\n",
      "Epoch 12/100\n",
      "34/34 [==============================] - 0s 6ms/step - loss: 7277.5552 - mae: 7277.5552\n",
      "Epoch 13/100\n",
      "34/34 [==============================] - 0s 6ms/step - loss: 7246.8345 - mae: 7246.8345\n",
      "Epoch 14/100\n",
      "34/34 [==============================] - 0s 6ms/step - loss: 7213.4253 - mae: 7213.4253\n",
      "Epoch 15/100\n",
      "34/34 [==============================] - 0s 5ms/step - loss: 7186.4600 - mae: 7186.4600\n",
      "Epoch 16/100\n",
      "34/34 [==============================] - 0s 6ms/step - loss: 7143.9307 - mae: 7143.9307\n",
      "Epoch 17/100\n",
      "34/34 [==============================] - 0s 6ms/step - loss: 7120.5708 - mae: 7120.5708\n",
      "Epoch 18/100\n",
      "34/34 [==============================] - 0s 6ms/step - loss: 7071.9263 - mae: 7071.9263\n",
      "Epoch 19/100\n",
      "34/34 [==============================] - 0s 6ms/step - loss: 7027.6997 - mae: 7027.6997\n",
      "Epoch 20/100\n",
      "34/34 [==============================] - 0s 5ms/step - loss: 6981.8281 - mae: 6981.8281\n",
      "Epoch 21/100\n",
      "34/34 [==============================] - 0s 6ms/step - loss: 6934.1904 - mae: 6934.1904\n",
      "Epoch 22/100\n",
      "34/34 [==============================] - 0s 4ms/step - loss: 6903.3735 - mae: 6903.3735\n",
      "Epoch 23/100\n",
      "34/34 [==============================] - 0s 5ms/step - loss: 6831.2632 - mae: 6831.2632\n",
      "Epoch 24/100\n",
      "34/34 [==============================] - 0s 5ms/step - loss: 6768.9531 - mae: 6768.9531\n",
      "Epoch 25/100\n",
      "34/34 [==============================] - 0s 5ms/step - loss: 6710.6865 - mae: 6710.6865\n",
      "Epoch 26/100\n",
      "34/34 [==============================] - 0s 6ms/step - loss: 6659.3315 - mae: 6659.3315\n",
      "Epoch 27/100\n",
      "34/34 [==============================] - 0s 5ms/step - loss: 6614.7720 - mae: 6614.7720\n",
      "Epoch 28/100\n",
      "34/34 [==============================] - 0s 5ms/step - loss: 6589.8120 - mae: 6589.8120\n",
      "Epoch 29/100\n",
      "34/34 [==============================] - 0s 5ms/step - loss: 6563.2612 - mae: 6563.2612\n",
      "Epoch 30/100\n",
      "34/34 [==============================] - 0s 5ms/step - loss: 6542.7192 - mae: 6542.7192\n",
      "Epoch 31/100\n",
      "34/34 [==============================] - 0s 5ms/step - loss: 6529.4463 - mae: 6529.4463\n",
      "Epoch 32/100\n",
      "34/34 [==============================] - 0s 6ms/step - loss: 6507.1597 - mae: 6507.1597\n",
      "Epoch 33/100\n",
      "34/34 [==============================] - 0s 5ms/step - loss: 6486.0444 - mae: 6486.0444\n",
      "Epoch 34/100\n",
      "34/34 [==============================] - 0s 5ms/step - loss: 6470.3384 - mae: 6470.3384\n",
      "Epoch 35/100\n",
      "34/34 [==============================] - 0s 5ms/step - loss: 6449.7119 - mae: 6449.7119\n",
      "Epoch 36/100\n",
      "34/34 [==============================] - 0s 5ms/step - loss: 6435.6387 - mae: 6435.6387\n",
      "Epoch 37/100\n",
      "34/34 [==============================] - 0s 5ms/step - loss: 6413.1909 - mae: 6413.1909\n",
      "Epoch 38/100\n",
      "34/34 [==============================] - 0s 5ms/step - loss: 6393.3179 - mae: 6393.3179\n",
      "Epoch 39/100\n",
      "34/34 [==============================] - 0s 5ms/step - loss: 6378.2100 - mae: 6378.2100\n",
      "Epoch 40/100\n",
      "34/34 [==============================] - 0s 5ms/step - loss: 6350.2505 - mae: 6350.2505\n",
      "Epoch 41/100\n",
      "34/34 [==============================] - 0s 5ms/step - loss: 6325.1816 - mae: 6325.1816\n",
      "Epoch 42/100\n",
      "34/34 [==============================] - 0s 5ms/step - loss: 6298.1006 - mae: 6298.1006\n",
      "Epoch 43/100\n",
      "34/34 [==============================] - 0s 7ms/step - loss: 6280.8765 - mae: 6280.8765\n",
      "Epoch 44/100\n",
      "34/34 [==============================] - 0s 5ms/step - loss: 6242.3350 - mae: 6242.3350\n",
      "Epoch 45/100\n",
      "34/34 [==============================] - 0s 5ms/step - loss: 6214.7490 - mae: 6214.7490\n",
      "Epoch 46/100\n",
      "34/34 [==============================] - 0s 5ms/step - loss: 6205.0054 - mae: 6205.0054\n",
      "Epoch 47/100\n",
      "34/34 [==============================] - 0s 6ms/step - loss: 6158.9653 - mae: 6158.9653\n",
      "Epoch 48/100\n",
      "34/34 [==============================] - 0s 6ms/step - loss: 6116.2969 - mae: 6116.2969\n",
      "Epoch 49/100\n",
      "34/34 [==============================] - 0s 5ms/step - loss: 6074.2031 - mae: 6074.2031\n",
      "Epoch 50/100\n",
      "34/34 [==============================] - 0s 6ms/step - loss: 6038.1147 - mae: 6038.1147\n",
      "Epoch 51/100\n",
      "34/34 [==============================] - 0s 6ms/step - loss: 5989.3677 - mae: 5989.3677\n",
      "Epoch 52/100\n",
      "34/34 [==============================] - 0s 5ms/step - loss: 5945.7988 - mae: 5945.7988\n",
      "Epoch 53/100\n",
      "34/34 [==============================] - 0s 6ms/step - loss: 5885.2803 - mae: 5885.2803\n",
      "Epoch 54/100\n",
      "34/34 [==============================] - 0s 5ms/step - loss: 5821.9038 - mae: 5821.9038\n",
      "Epoch 55/100\n",
      "34/34 [==============================] - 0s 6ms/step - loss: 5762.5645 - mae: 5762.5645\n",
      "Epoch 56/100\n",
      "34/34 [==============================] - 0s 5ms/step - loss: 5686.1719 - mae: 5686.1719\n",
      "Epoch 57/100\n",
      "34/34 [==============================] - 0s 5ms/step - loss: 5581.1367 - mae: 5581.1367\n",
      "Epoch 58/100\n",
      "34/34 [==============================] - 0s 5ms/step - loss: 5489.3921 - mae: 5489.3921\n",
      "Epoch 59/100\n",
      "34/34 [==============================] - 0s 5ms/step - loss: 5357.6865 - mae: 5357.6865\n",
      "Epoch 60/100\n",
      "34/34 [==============================] - 0s 5ms/step - loss: 5246.7295 - mae: 5246.7295\n",
      "Epoch 61/100\n",
      "34/34 [==============================] - 0s 6ms/step - loss: 5078.1685 - mae: 5078.1685\n",
      "Epoch 62/100\n",
      "34/34 [==============================] - 0s 6ms/step - loss: 4885.2119 - mae: 4885.2119\n",
      "Epoch 63/100\n",
      "34/34 [==============================] - 0s 5ms/step - loss: 4658.8711 - mae: 4658.8711\n",
      "Epoch 64/100\n",
      "34/34 [==============================] - 0s 5ms/step - loss: 4410.6445 - mae: 4410.6445\n",
      "Epoch 65/100\n",
      "34/34 [==============================] - 0s 5ms/step - loss: 4174.6904 - mae: 4174.6904\n",
      "Epoch 66/100\n",
      "34/34 [==============================] - 0s 6ms/step - loss: 4004.9285 - mae: 4004.9285\n",
      "Epoch 67/100\n",
      "34/34 [==============================] - 0s 5ms/step - loss: 3939.4827 - mae: 3939.4827\n",
      "Epoch 68/100\n",
      "34/34 [==============================] - 0s 5ms/step - loss: 3904.5876 - mae: 3904.5876\n",
      "Epoch 69/100\n",
      "34/34 [==============================] - 0s 5ms/step - loss: 3891.9756 - mae: 3891.9756\n",
      "Epoch 70/100\n",
      "34/34 [==============================] - 0s 5ms/step - loss: 3877.3838 - mae: 3877.3838\n",
      "Epoch 71/100\n",
      "34/34 [==============================] - 0s 5ms/step - loss: 3859.2954 - mae: 3859.2954\n",
      "Epoch 72/100\n",
      "34/34 [==============================] - 0s 5ms/step - loss: 3847.2544 - mae: 3847.2544\n",
      "Epoch 73/100\n",
      "34/34 [==============================] - 0s 5ms/step - loss: 3844.6145 - mae: 3844.6145\n",
      "Epoch 74/100\n",
      "34/34 [==============================] - 0s 5ms/step - loss: 3848.5017 - mae: 3848.5017\n",
      "Epoch 75/100\n",
      "34/34 [==============================] - 0s 6ms/step - loss: 3847.9558 - mae: 3847.9558\n",
      "Epoch 76/100\n",
      "34/34 [==============================] - 0s 5ms/step - loss: 3825.3247 - mae: 3825.3247\n",
      "Epoch 77/100\n",
      "34/34 [==============================] - 0s 5ms/step - loss: 3838.5916 - mae: 3838.5916\n",
      "Epoch 78/100\n",
      "34/34 [==============================] - 0s 5ms/step - loss: 3812.9570 - mae: 3812.9570\n",
      "Epoch 79/100\n",
      "34/34 [==============================] - 0s 5ms/step - loss: 3816.3298 - mae: 3816.3298\n",
      "Epoch 80/100\n",
      "34/34 [==============================] - 0s 5ms/step - loss: 3814.8779 - mae: 3814.8779\n",
      "Epoch 81/100\n",
      "34/34 [==============================] - 0s 5ms/step - loss: 3799.7312 - mae: 3799.7312\n",
      "Epoch 82/100\n"
     ]
    },
    {
     "name": "stdout",
     "output_type": "stream",
     "text": [
      "34/34 [==============================] - 0s 5ms/step - loss: 3806.3206 - mae: 3806.3206\n",
      "Epoch 83/100\n",
      "34/34 [==============================] - 0s 5ms/step - loss: 3801.9719 - mae: 3801.9719\n",
      "Epoch 84/100\n",
      "34/34 [==============================] - 0s 5ms/step - loss: 3813.9260 - mae: 3813.9260\n",
      "Epoch 85/100\n",
      "34/34 [==============================] - 0s 5ms/step - loss: 3792.2646 - mae: 3792.2646\n",
      "Epoch 86/100\n",
      "34/34 [==============================] - 0s 5ms/step - loss: 3791.4475 - mae: 3791.4475\n",
      "Epoch 87/100\n",
      "34/34 [==============================] - 0s 5ms/step - loss: 3773.7712 - mae: 3773.7712\n",
      "Epoch 88/100\n",
      "34/34 [==============================] - 0s 5ms/step - loss: 3774.6482 - mae: 3774.6482\n",
      "Epoch 89/100\n",
      "34/34 [==============================] - 0s 5ms/step - loss: 3777.5376 - mae: 3777.5376\n",
      "Epoch 90/100\n",
      "34/34 [==============================] - 0s 5ms/step - loss: 3767.0574 - mae: 3767.0574\n",
      "Epoch 91/100\n",
      "34/34 [==============================] - 0s 5ms/step - loss: 3769.2129 - mae: 3769.2129\n",
      "Epoch 92/100\n",
      "34/34 [==============================] - 0s 6ms/step - loss: 3766.0818 - mae: 3766.0818\n",
      "Epoch 93/100\n",
      "34/34 [==============================] - 0s 5ms/step - loss: 3754.9380 - mae: 3754.9380\n",
      "Epoch 94/100\n",
      "34/34 [==============================] - 0s 5ms/step - loss: 3763.7395 - mae: 3763.7395\n",
      "Epoch 95/100\n",
      "34/34 [==============================] - 0s 6ms/step - loss: 3753.5093 - mae: 3753.5093\n",
      "Epoch 96/100\n",
      "34/34 [==============================] - 0s 5ms/step - loss: 3763.9810 - mae: 3763.9810\n",
      "Epoch 97/100\n",
      "34/34 [==============================] - 0s 5ms/step - loss: 3743.3833 - mae: 3743.3833\n",
      "Epoch 98/100\n",
      "34/34 [==============================] - 0s 5ms/step - loss: 3738.3645 - mae: 3738.3645\n",
      "Epoch 99/100\n",
      "34/34 [==============================] - 0s 5ms/step - loss: 3750.0454 - mae: 3750.0454\n",
      "Epoch 100/100\n",
      "34/34 [==============================] - 0s 6ms/step - loss: 3734.8979 - mae: 3734.8979\n"
     ]
    }
   ],
   "source": [
    "# Creating the Neural Network\n",
    "\n",
    "tf.random.set_seed(42)\n",
    "\n",
    "insurance_model = tf.keras.Sequential([\n",
    "    tf.keras.layers.Dense(11),\n",
    "    tf.keras.layers.Dense(50),\n",
    "    tf.keras.layers.Dense(50),\n",
    "    tf.keras.layers.Dense(1),\n",
    "])\n",
    "\n",
    "insurance_model.compile(loss=tf.keras.losses.mae , \n",
    "                       optimizer=tf.keras.optimizers.Adam(),\n",
    "                       metrics=['mae'])\n",
    "\n",
    "history = insurance_model.fit(X_train , Y_train, epochs=100)"
   ]
  },
  {
   "cell_type": "code",
   "execution_count": 44,
   "id": "8706bc54",
   "metadata": {},
   "outputs": [
    {
     "name": "stdout",
     "output_type": "stream",
     "text": [
      "9/9 [==============================] - 1s 5ms/step - loss: 3553.0554 - mae: 3553.0554\n"
     ]
    },
    {
     "data": {
      "text/plain": [
       "[3553.055419921875, 3553.055419921875]"
      ]
     },
     "execution_count": 44,
     "metadata": {},
     "output_type": "execute_result"
    }
   ],
   "source": [
    "insurance_model.evaluate(X_test , Y_test)"
   ]
  },
  {
   "cell_type": "code",
   "execution_count": 46,
   "id": "023be93d",
   "metadata": {},
   "outputs": [
    {
     "data": {
      "text/plain": [
       "Text(0.5, 0, 'Epochs')"
      ]
     },
     "execution_count": 46,
     "metadata": {},
     "output_type": "execute_result"
    },
    {
     "data": {
      "image/png": "[encoded data removed]",
      "text/plain": [
       "<Figure size 640x480 with 1 Axes>"
      ]
     },
     "metadata": {},
     "output_type": "display_data"
    }
   ],
   "source": [
    "# Plot history (loss curve or training curve)\n",
    "pd.DataFrame(history.history).plot()\n",
    "plt.ylabel(\"Loss\")\n",
    "plt.xlabel(\"Epochs\")"
   ]
  },
  {
   "cell_type": "markdown",
   "id": "43215f8a",
   "metadata": {},
   "source": [
    "### Improving the Model using Standardization etc."
   ]
  },
  {
   "cell_type": "code",
   "execution_count": 47,
   "id": "70dda367",
   "metadata": {},
   "outputs": [],
   "source": [
    "from sklearn.compose import make_column_transformer\n",
    "from sklearn.preprocessing import MinMaxScaler, OneHotEncoder"
   ]
  },
  {
   "cell_type": "code",
   "execution_count": 50,
   "id": "b8f65e67",
   "metadata": {},
   "outputs": [],
   "source": [
    "# Creating a column tranformer\n",
    "\n",
    "ct = make_column_transformer(\n",
    "    (MinMaxScaler(), ['age', 'bmi','children']),\n",
    "    (OneHotEncoder(handle_unknown='ignore'), ['sex','smoker','region'])\n",
    ")\n",
    "\n",
    "# Creating features and labels\n",
    "\n",
    "X = df.drop(['charges'] , axis=1)\n",
    "Y = df['charges']\n",
    "\n",
    "\n",
    "# Build train and test sets\n",
    "\n",
    "X_train , X_test , Y_train , Y_test = train_test_split(X, Y , random_state=42 , test_size=0.2)\n",
    "\n",
    "\n",
    "# Fit the column transormer to our training data \n",
    "\n",
    "ct.fit(X_train)\n",
    "\n",
    "# Transforming training and test data with normalization and OneHotEncoder\n",
    "\n",
    "X_train_normal = ct.transform(X_train)\n",
    "X_test_normal = ct.transform(X_test)\n"
   ]
  },
  {
   "cell_type": "code",
   "execution_count": 55,
   "id": "35d6dccf",
   "metadata": {},
   "outputs": [
    {
     "data": {
      "text/plain": [
       "((1070, 11), (1070, 6))"
      ]
     },
     "execution_count": 55,
     "metadata": {},
     "output_type": "execute_result"
    }
   ],
   "source": [
    "X_train_normal.shape , X_train.shape"
   ]
  },
  {
   "cell_type": "markdown",
   "id": "13fc79a6",
   "metadata": {},
   "source": [
    "### Building the Improved model"
   ]
  },
  {
   "cell_type": "code",
   "execution_count": 56,
   "id": "77f81c1b",
   "metadata": {},
   "outputs": [
    {
     "name": "stdout",
     "output_type": "stream",
     "text": [
      "Model: \"sequential_4\"\n",
      "_________________________________________________________________\n",
      " Layer (type)                Output Shape              Param #   \n",
      "=================================================================\n",
      " dense_9 (Dense)             (None, 11)                132       \n",
      "                                                                 \n",
      " dense_10 (Dense)            (None, 50)                600       \n",
      "                                                                 \n",
      " dense_11 (Dense)            (None, 50)                2550      \n",
      "                                                                 \n",
      " dense_12 (Dense)            (None, 1)                 51        \n",
      "                                                                 \n",
      "=================================================================\n",
      "Total params: 3333 (13.02 KB)\n",
      "Trainable params: 3333 (13.02 KB)\n",
      "Non-trainable params: 0 (0.00 Byte)\n",
      "_________________________________________________________________\n"
     ]
    }
   ],
   "source": [
    "insurance_model.summary()\n",
    "\n"
   ]
  },
  {
   "cell_type": "code",
   "execution_count": 60,
   "id": "97ba217a",
   "metadata": {},
   "outputs": [
    {
     "name": "stdout",
     "output_type": "stream",
     "text": [
      "Epoch 1/100\n",
      "34/34 [==============================] - 4s 6ms/step - loss: 13342.7363 - mae: 13342.7363\n",
      "Epoch 2/100\n",
      "34/34 [==============================] - 0s 5ms/step - loss: 13312.1514 - mae: 13312.1514\n",
      "Epoch 3/100\n",
      "34/34 [==============================] - 0s 5ms/step - loss: 13143.5664 - mae: 13143.5664\n",
      "Epoch 4/100\n",
      "34/34 [==============================] - 0s 5ms/step - loss: 12530.6846 - mae: 12530.6846\n",
      "Epoch 5/100\n",
      "34/34 [==============================] - 0s 5ms/step - loss: 11011.1836 - mae: 11011.1836\n",
      "Epoch 6/100\n",
      "34/34 [==============================] - 0s 5ms/step - loss: 8954.0977 - mae: 8954.0977\n",
      "Epoch 7/100\n",
      "34/34 [==============================] - 0s 5ms/step - loss: 7842.4683 - mae: 7842.4683\n",
      "Epoch 8/100\n",
      "34/34 [==============================] - 0s 5ms/step - loss: 7632.9038 - mae: 7632.9038\n",
      "Epoch 9/100\n",
      "34/34 [==============================] - 0s 7ms/step - loss: 7487.8174 - mae: 7487.8174\n",
      "Epoch 10/100\n",
      "34/34 [==============================] - 0s 4ms/step - loss: 7341.8750 - mae: 7341.8750\n",
      "Epoch 11/100\n",
      "34/34 [==============================] - 0s 5ms/step - loss: 7191.0884 - mae: 7191.0884\n",
      "Epoch 12/100\n",
      "34/34 [==============================] - 0s 5ms/step - loss: 7016.0854 - mae: 7016.0854\n",
      "Epoch 13/100\n",
      "34/34 [==============================] - 0s 5ms/step - loss: 6828.2690 - mae: 6828.2690\n",
      "Epoch 14/100\n",
      "34/34 [==============================] - 0s 5ms/step - loss: 6603.0615 - mae: 6603.0615\n",
      "Epoch 15/100\n",
      "34/34 [==============================] - 0s 6ms/step - loss: 6347.8350 - mae: 6347.8350\n",
      "Epoch 16/100\n",
      "34/34 [==============================] - 0s 5ms/step - loss: 6040.0933 - mae: 6040.0933\n",
      "Epoch 17/100\n",
      "34/34 [==============================] - 0s 6ms/step - loss: 5692.3535 - mae: 5692.3535\n",
      "Epoch 18/100\n",
      "34/34 [==============================] - 0s 5ms/step - loss: 5284.3589 - mae: 5284.3589\n",
      "Epoch 19/100\n",
      "34/34 [==============================] - 0s 7ms/step - loss: 4848.4058 - mae: 4848.4058\n",
      "Epoch 20/100\n",
      "34/34 [==============================] - 0s 5ms/step - loss: 4430.8296 - mae: 4430.8296\n",
      "Epoch 21/100\n",
      "34/34 [==============================] - 0s 5ms/step - loss: 4084.8237 - mae: 4084.8237\n",
      "Epoch 22/100\n",
      "34/34 [==============================] - 0s 6ms/step - loss: 3828.0549 - mae: 3828.0549\n",
      "Epoch 23/100\n",
      "34/34 [==============================] - 0s 5ms/step - loss: 3695.4988 - mae: 3695.4988\n",
      "Epoch 24/100\n",
      "34/34 [==============================] - 0s 6ms/step - loss: 3651.2046 - mae: 3651.2046\n",
      "Epoch 25/100\n",
      "34/34 [==============================] - 0s 5ms/step - loss: 3639.5361 - mae: 3639.5361\n",
      "Epoch 26/100\n",
      "34/34 [==============================] - 0s 5ms/step - loss: 3630.2473 - mae: 3630.2473\n",
      "Epoch 27/100\n",
      "34/34 [==============================] - 0s 6ms/step - loss: 3620.9683 - mae: 3620.9683\n",
      "Epoch 28/100\n",
      "34/34 [==============================] - 0s 6ms/step - loss: 3619.3889 - mae: 3619.3889\n",
      "Epoch 29/100\n",
      "34/34 [==============================] - 0s 6ms/step - loss: 3608.3215 - mae: 3608.3215\n",
      "Epoch 30/100\n",
      "34/34 [==============================] - 0s 5ms/step - loss: 3616.3645 - mae: 3616.3645\n",
      "Epoch 31/100\n",
      "34/34 [==============================] - 0s 5ms/step - loss: 3601.8579 - mae: 3601.8579\n",
      "Epoch 32/100\n",
      "34/34 [==============================] - 0s 6ms/step - loss: 3588.6677 - mae: 3588.6677\n",
      "Epoch 33/100\n",
      "34/34 [==============================] - 0s 6ms/step - loss: 3591.0549 - mae: 3591.0549\n",
      "Epoch 34/100\n",
      "34/34 [==============================] - 0s 6ms/step - loss: 3572.6292 - mae: 3572.6292\n",
      "Epoch 35/100\n",
      "34/34 [==============================] - 0s 5ms/step - loss: 3570.7244 - mae: 3570.7244\n",
      "Epoch 36/100\n",
      "34/34 [==============================] - 0s 5ms/step - loss: 3563.9214 - mae: 3563.9214\n",
      "Epoch 37/100\n",
      "34/34 [==============================] - 0s 6ms/step - loss: 3554.2969 - mae: 3554.2969\n",
      "Epoch 38/100\n",
      "34/34 [==============================] - 0s 5ms/step - loss: 3559.6406 - mae: 3559.6406\n",
      "Epoch 39/100\n",
      "34/34 [==============================] - 0s 6ms/step - loss: 3544.1379 - mae: 3544.1379\n",
      "Epoch 40/100\n",
      "34/34 [==============================] - 0s 4ms/step - loss: 3545.0464 - mae: 3545.0464\n",
      "Epoch 41/100\n",
      "34/34 [==============================] - 0s 5ms/step - loss: 3531.2537 - mae: 3531.2537\n",
      "Epoch 42/100\n",
      "34/34 [==============================] - 0s 6ms/step - loss: 3536.1743 - mae: 3536.1743\n",
      "Epoch 43/100\n",
      "34/34 [==============================] - 0s 6ms/step - loss: 3532.5244 - mae: 3532.5244\n",
      "Epoch 44/100\n",
      "34/34 [==============================] - 0s 5ms/step - loss: 3521.4331 - mae: 3521.4331\n",
      "Epoch 45/100\n",
      "34/34 [==============================] - 0s 6ms/step - loss: 3511.1306 - mae: 3511.1306\n",
      "Epoch 46/100\n",
      "34/34 [==============================] - 0s 5ms/step - loss: 3515.1221 - mae: 3515.1221\n",
      "Epoch 47/100\n",
      "34/34 [==============================] - 0s 5ms/step - loss: 3514.3167 - mae: 3514.3167\n",
      "Epoch 48/100\n",
      "34/34 [==============================] - 0s 6ms/step - loss: 3501.6550 - mae: 3501.6550\n",
      "Epoch 49/100\n",
      "34/34 [==============================] - 0s 5ms/step - loss: 3509.4138 - mae: 3509.4138\n",
      "Epoch 50/100\n",
      "34/34 [==============================] - 0s 7ms/step - loss: 3488.0483 - mae: 3488.0483\n",
      "Epoch 51/100\n",
      "34/34 [==============================] - 0s 5ms/step - loss: 3489.4192 - mae: 3489.4192\n",
      "Epoch 52/100\n",
      "34/34 [==============================] - 0s 5ms/step - loss: 3482.8887 - mae: 3482.8887\n",
      "Epoch 53/100\n",
      "34/34 [==============================] - 0s 6ms/step - loss: 3479.3362 - mae: 3479.3362\n",
      "Epoch 54/100\n",
      "34/34 [==============================] - 0s 5ms/step - loss: 3491.6733 - mae: 3491.6733\n",
      "Epoch 55/100\n",
      "34/34 [==============================] - 0s 5ms/step - loss: 3504.7158 - mae: 3504.7158\n",
      "Epoch 56/100\n",
      "34/34 [==============================] - 0s 5ms/step - loss: 3484.1003 - mae: 3484.1003\n",
      "Epoch 57/100\n",
      "34/34 [==============================] - 0s 5ms/step - loss: 3478.5042 - mae: 3478.5042\n",
      "Epoch 58/100\n",
      "34/34 [==============================] - 0s 5ms/step - loss: 3476.3162 - mae: 3476.3162\n",
      "Epoch 59/100\n",
      "34/34 [==============================] - 0s 5ms/step - loss: 3482.7183 - mae: 3482.7183\n",
      "Epoch 60/100\n",
      "34/34 [==============================] - 0s 7ms/step - loss: 3482.8938 - mae: 3482.8938\n",
      "Epoch 61/100\n",
      "34/34 [==============================] - 0s 3ms/step - loss: 3482.0552 - mae: 3482.0552\n",
      "Epoch 62/100\n",
      "34/34 [==============================] - 0s 5ms/step - loss: 3477.9182 - mae: 3477.9182\n",
      "Epoch 63/100\n",
      "34/34 [==============================] - 0s 6ms/step - loss: 3477.7405 - mae: 3477.7405\n",
      "Epoch 64/100\n",
      "34/34 [==============================] - 0s 5ms/step - loss: 3481.6985 - mae: 3481.6985\n",
      "Epoch 65/100\n",
      "34/34 [==============================] - 0s 5ms/step - loss: 3489.0225 - mae: 3489.0225\n",
      "Epoch 66/100\n",
      "34/34 [==============================] - 0s 5ms/step - loss: 3481.6799 - mae: 3481.6799\n",
      "Epoch 67/100\n",
      "34/34 [==============================] - 0s 5ms/step - loss: 3478.6414 - mae: 3478.6414\n",
      "Epoch 68/100\n",
      "34/34 [==============================] - 0s 5ms/step - loss: 3486.0381 - mae: 3486.0381\n",
      "Epoch 69/100\n",
      "34/34 [==============================] - 0s 5ms/step - loss: 3476.7578 - mae: 3476.7578\n",
      "Epoch 70/100\n",
      "34/34 [==============================] - 0s 5ms/step - loss: 3483.3577 - mae: 3483.3577\n",
      "Epoch 71/100\n",
      "34/34 [==============================] - 0s 6ms/step - loss: 3482.2070 - mae: 3482.2070\n",
      "Epoch 72/100\n",
      "34/34 [==============================] - 0s 4ms/step - loss: 3487.5342 - mae: 3487.5342\n",
      "Epoch 73/100\n",
      "34/34 [==============================] - 0s 5ms/step - loss: 3481.9480 - mae: 3481.9480\n",
      "Epoch 74/100\n",
      "34/34 [==============================] - 0s 5ms/step - loss: 3478.3469 - mae: 3478.3469\n",
      "Epoch 75/100\n",
      "34/34 [==============================] - 0s 6ms/step - loss: 3477.4824 - mae: 3477.4824\n",
      "Epoch 76/100\n",
      "34/34 [==============================] - 0s 6ms/step - loss: 3478.6326 - mae: 3478.6326\n",
      "Epoch 77/100\n",
      "34/34 [==============================] - 0s 5ms/step - loss: 3478.4514 - mae: 3478.4514\n",
      "Epoch 78/100\n",
      "34/34 [==============================] - 0s 5ms/step - loss: 3478.4404 - mae: 3478.4404\n",
      "Epoch 79/100\n",
      "34/34 [==============================] - 0s 5ms/step - loss: 3479.3335 - mae: 3479.3335\n",
      "Epoch 80/100\n",
      "34/34 [==============================] - 0s 5ms/step - loss: 3480.8232 - mae: 3480.8232\n",
      "Epoch 81/100\n",
      "34/34 [==============================] - 0s 5ms/step - loss: 3480.4412 - mae: 3480.4412\n",
      "Epoch 82/100\n"
     ]
    },
    {
     "name": "stdout",
     "output_type": "stream",
     "text": [
      "34/34 [==============================] - 0s 6ms/step - loss: 3478.3994 - mae: 3478.3994\n",
      "Epoch 83/100\n",
      "34/34 [==============================] - 0s 4ms/step - loss: 3478.4978 - mae: 3478.4978\n",
      "Epoch 84/100\n",
      "34/34 [==============================] - 0s 5ms/step - loss: 3481.2070 - mae: 3481.2070\n",
      "Epoch 85/100\n",
      "34/34 [==============================] - 0s 5ms/step - loss: 3473.5234 - mae: 3473.5234\n",
      "Epoch 86/100\n",
      "34/34 [==============================] - 0s 5ms/step - loss: 3474.4260 - mae: 3474.4260\n",
      "Epoch 87/100\n",
      "34/34 [==============================] - 0s 5ms/step - loss: 3480.5466 - mae: 3480.5466\n",
      "Epoch 88/100\n",
      "34/34 [==============================] - 0s 5ms/step - loss: 3478.4998 - mae: 3478.4998\n",
      "Epoch 89/100\n",
      "34/34 [==============================] - 0s 5ms/step - loss: 3478.2759 - mae: 3478.2759\n",
      "Epoch 90/100\n",
      "34/34 [==============================] - 0s 6ms/step - loss: 3478.9763 - mae: 3478.9763\n",
      "Epoch 91/100\n",
      "34/34 [==============================] - 0s 5ms/step - loss: 3475.7786 - mae: 3475.7786\n",
      "Epoch 92/100\n",
      "34/34 [==============================] - 0s 6ms/step - loss: 3480.5535 - mae: 3480.5535\n",
      "Epoch 93/100\n",
      "34/34 [==============================] - 0s 5ms/step - loss: 3474.9167 - mae: 3474.9167\n",
      "Epoch 94/100\n",
      "34/34 [==============================] - 0s 5ms/step - loss: 3477.8281 - mae: 3477.8281\n",
      "Epoch 95/100\n",
      "34/34 [==============================] - 0s 5ms/step - loss: 3477.8906 - mae: 3477.8906\n",
      "Epoch 96/100\n",
      "34/34 [==============================] - 0s 5ms/step - loss: 3482.7502 - mae: 3482.7502\n",
      "Epoch 97/100\n",
      "34/34 [==============================] - 0s 6ms/step - loss: 3483.4626 - mae: 3483.4626\n",
      "Epoch 98/100\n",
      "34/34 [==============================] - 0s 5ms/step - loss: 3475.5437 - mae: 3475.5437\n",
      "Epoch 99/100\n",
      "34/34 [==============================] - 0s 5ms/step - loss: 3480.5820 - mae: 3480.5820\n",
      "Epoch 100/100\n",
      "34/34 [==============================] - 0s 6ms/step - loss: 3482.6951 - mae: 3482.6951\n"
     ]
    }
   ],
   "source": [
    "# Creating a imporved model\n",
    "\n",
    "tf.random.set_seed(42)\n",
    "\n",
    "improved_model = tf.keras.Sequential([\n",
    "    tf.keras.layers.Dense(11),\n",
    "    tf.keras.layers.Dense(100),\n",
    "    tf.keras.layers.Dense(50),\n",
    "    tf.keras.layers.Dense(1),\n",
    "])\n",
    "\n",
    "improved_model.compile(loss=tf.keras.losses.mae , \n",
    "                       optimizer=tf.keras.optimizers.Adam(),\n",
    "                       metrics=['mae'])\n",
    "\n",
    "history = improved_model.fit(X_train_normal , Y_train, epochs=100)"
   ]
  },
  {
   "cell_type": "code",
   "execution_count": 61,
   "id": "1be4282e",
   "metadata": {},
   "outputs": [
    {
     "name": "stdout",
     "output_type": "stream",
     "text": [
      "9/9 [==============================] - 1s 5ms/step - loss: 3157.2935 - mae: 3157.2935\n"
     ]
    },
    {
     "data": {
      "text/plain": [
       "[3157.29345703125, 3157.29345703125]"
      ]
     },
     "execution_count": 61,
     "metadata": {},
     "output_type": "execute_result"
    }
   ],
   "source": [
    "improved_model.evaluate(X_test_normal , Y_test)"
   ]
  },
  {
   "cell_type": "code",
   "execution_count": 62,
   "id": "360bd494",
   "metadata": {},
   "outputs": [
    {
     "data": {
      "text/plain": [
       "Text(0.5, 0, 'Epochs')"
      ]
     },
     "execution_count": 62,
     "metadata": {},
     "output_type": "execute_result"
    },
    {
     "data": {
      "image/png": "[encoded data removed]",
      "text/plain": [
       "<Figure size 640x480 with 1 Axes>"
      ]
     },
     "metadata": {},
     "output_type": "display_data"
    }
   ],
   "source": [
    "pd.DataFrame(history.history).plot()\n",
    "plt.ylabel(\"Loss\")\n",
    "plt.xlabel(\"Epochs\")"
   ]
  },
  {
   "cell_type": "code",
   "execution_count": null,
   "id": "6a18a833",
   "metadata": {},
   "outputs": [],
   "source": []
  }
 ],
 "metadata": {
  "kernelspec": {
   "display_name": "Python 3 (ipykernel)",
   "language": "python",
   "name": "python3"
  },
  "language_info": {
   "codemirror_mode": {
    "name": "ipython",
    "version": 3
   },
   "file_extension": ".py",
   "mimetype": "text/x-python",
   "name": "python",
   "nbconvert_exporter": "python",
   "pygments_lexer": "ipython3",
   "version": "3.11.5"
  }
 },
 "nbformat": 4,
 "nbformat_minor": 5
}
